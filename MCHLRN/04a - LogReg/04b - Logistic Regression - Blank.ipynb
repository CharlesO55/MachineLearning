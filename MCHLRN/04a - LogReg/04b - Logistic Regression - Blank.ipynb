{
 "cells": [
  {
   "cell_type": "markdown",
   "metadata": {
    "id": "nZhLVggH2SXN"
   },
   "source": [
    "__Name/Section:__"
   ]
  },
  {
   "cell_type": "markdown",
   "metadata": {
    "id": "GkVsgWZH2SXU"
   },
   "source": [
    "A: Charles Ong MACHLRN-XX22"
   ]
  },
  {
   "cell_type": "markdown",
   "metadata": {
    "id": "aAcNI4oG2SXZ"
   },
   "source": [
    "# Logistic Regression Exercise\n",
    "\n",
    "This exercise will guide you in implementing a linear model for classification, namely logistic regression, to gain intuitions and develop an understanding of classification models.\n",
    "\n",
    "In this notebook, we will make and train a logistic regression model using sklearn's `SGDClassifier`. We will first do it on a toy dataset (and visualize its decision boundaries), and then on an image dataset."
   ]
  },
  {
   "cell_type": "markdown",
   "metadata": {
    "id": "HNOXU-E-2SXh"
   },
   "source": [
    "## Instructions\n",
    "* Read each cell and implement the TODOs sequentially. The markdown/text cells also contain instructions which you need to follow to get the whole notebook working.\n",
    "* Do not change the variable names unless the instructor allows you to.\n",
    "* Answer all the markdown/text cells with 'A: ' on them. The answer must strictly consume one line only.\n",
    "* You are expected to search how to some functions work on the Internet or via the docs. \n",
    "* There are commented markdown cells that have crumbs. Do not delete them or separate them from the cell originally directly below it. \n",
    "* You may add new cells for \"scrap work\" as long as the crumbs are not separated from the cell below it.\n",
    "* The notebooks will undergo a 'Restart and Run All' command, so make sure that your code is working properly.\n",
    "* You are expected to understand the data set loading and processing separately from this class.\n",
    "* You may not reproduce this notebook or share them to anyone."
   ]
  },
  {
   "cell_type": "markdown",
   "metadata": {
    "id": "F42gkFJ72SXm"
   },
   "source": [
    "## Import\n",
    "Import **matplotlib**, **numpy**, **random**, and **h5py**."
   ]
  },
  {
   "cell_type": "code",
   "execution_count": 1,
   "metadata": {
    "executionInfo": {
     "elapsed": 6,
     "status": "ok",
     "timestamp": 1657871738707,
     "user": {
      "displayName": "Courtney Ngo",
      "userId": "01361140591205022195"
     },
     "user_tz": -480
    },
    "id": "uYAeGWxD2SXq"
   },
   "outputs": [],
   "source": [
    "import matplotlib.pyplot as plt\n",
    "%matplotlib inline\n",
    "import numpy as np\n",
    "import random\n",
    "import h5py\n",
    "\n",
    "plt.style.use('ggplot')\n",
    "\n",
    "%load_ext autoreload\n",
    "%autoreload 2"
   ]
  },
  {
   "cell_type": "markdown",
   "metadata": {
    "id": "JrjeXeRH2SXs"
   },
   "source": [
    "## Toy dataset\n",
    "\n",
    "Before we use a more complicated dataset, we will first demonstrate linear regression using a toy dataset. Let's use the `make_blobs()` function to create a dataset with 1100 instances centered in (-5, -1) and (-1, -4)."
   ]
  },
  {
   "cell_type": "code",
   "execution_count": 2,
   "metadata": {
    "executionInfo": {
     "elapsed": 698,
     "status": "ok",
     "timestamp": 1657871739401,
     "user": {
      "displayName": "Courtney Ngo",
      "userId": "01361140591205022195"
     },
     "user_tz": -480
    },
    "id": "3SuPudC92SXt",
    "scrolled": true
   },
   "outputs": [],
   "source": [
    "from sklearn.datasets import make_blobs\n",
    "\n",
    "centers = [[-5, -1], [-1, -4]]\n",
    "\n",
    "X, y = make_blobs(n_samples=1100, \n",
    "                  centers=centers, \n",
    "                  random_state=5)"
   ]
  },
  {
   "cell_type": "markdown",
   "metadata": {
    "id": "5PpFIJT82SX1"
   },
   "source": [
    "Let's get the number of instances with label `True` or 1 and the number of instances with label `False` or 0."
   ]
  },
  {
   "cell_type": "code",
   "execution_count": 3,
   "metadata": {
    "colab": {
     "base_uri": "https://localhost:8080/"
    },
    "executionInfo": {
     "elapsed": 832,
     "status": "ok",
     "timestamp": 1657871740230,
     "user": {
      "displayName": "Courtney Ngo",
      "userId": "01361140591205022195"
     },
     "user_tz": -480
    },
    "id": "YTxJ_eyM2SX4",
    "outputId": "c0fd6479-9274-41b6-e770-d20c903269bf"
   },
   "outputs": [
    {
     "name": "stdout",
     "output_type": "stream",
     "text": [
      "Number of True: 550\n",
      "Number of False: 550\n"
     ]
    }
   ],
   "source": [
    "X_true = X[y == 1]\n",
    "X_false = X[y == 0]\n",
    "\n",
    "print('Number of True:', len(X_true))\n",
    "print('Number of False:', len(X_false))"
   ]
  },
  {
   "cell_type": "markdown",
   "metadata": {
    "id": "UY-8I7rV2SX6"
   },
   "source": [
    "There are 550 `True` instances and 550 `False` instances."
   ]
  },
  {
   "cell_type": "markdown",
   "metadata": {
    "id": "YvGZ-xa62SX-"
   },
   "source": [
    "Let's divide the dataset into train and test set. The test set will contain 50 instances of `True` and 50 instances of `False`."
   ]
  },
  {
   "cell_type": "code",
   "execution_count": 4,
   "metadata": {
    "colab": {
     "base_uri": "https://localhost:8080/"
    },
    "executionInfo": {
     "elapsed": 25,
     "status": "ok",
     "timestamp": 1657871740231,
     "user": {
      "displayName": "Courtney Ngo",
      "userId": "01361140591205022195"
     },
     "user_tz": -480
    },
    "id": "SSqAhn2c2SYM",
    "outputId": "ba529ccf-1d83-458d-8ac8-c6fde1a7492b"
   },
   "outputs": [
    {
     "name": "stdout",
     "output_type": "stream",
     "text": [
      "(100, 2)\n",
      "(100,)\n"
     ]
    }
   ],
   "source": [
    "np.random.seed(1)\n",
    "\n",
    "# Select 50 `True` instances\n",
    "selected_true = np.random.choice(np.arange(len(X_true)),\n",
    "                                 size=50,\n",
    "                                 replace=False)\n",
    "\n",
    "# Select 50 `False` instances\n",
    "selected_false = np.random.choice(np.arange(len(X_false)),\n",
    "                                  size=50,\n",
    "                                  replace=False)\n",
    "\n",
    "# Form the test set\n",
    "X_test = np.concatenate((X_true[selected_true], \n",
    "                         X_false[selected_false]))\n",
    "y_test = np.concatenate((np.array([1 for _ in range(50)]),\n",
    "                         np.array([0 for _ in range(50)])))\n",
    "\n",
    "print(X_test.shape)\n",
    "print(y_test.shape)"
   ]
  },
  {
   "cell_type": "code",
   "execution_count": 5,
   "metadata": {},
   "outputs": [
    {
     "data": {
      "text/plain": [
       "array([[-1.38571703e-01, -4.64798348e+00],\n",
       "       [-8.84521622e-01, -6.11930086e+00],\n",
       "       [ 7.72138879e-01, -4.37163743e+00],\n",
       "       [-3.10511177e-02, -2.81441992e+00],\n",
       "       [-1.24180391e+00, -3.06264752e+00],\n",
       "       [-1.11490486e+00, -3.21319462e+00],\n",
       "       [-2.97809034e+00, -4.98844401e+00],\n",
       "       [-2.62775637e+00, -4.55751453e+00],\n",
       "       [-1.12713875e+00, -3.92390240e+00],\n",
       "       [-1.21306716e+00, -2.52473494e+00],\n",
       "       [-2.86382912e+00, -2.41445258e+00],\n",
       "       [-6.65551436e-01, -4.39428211e+00],\n",
       "       [-1.40057929e+00, -4.62152506e+00],\n",
       "       [-2.50487719e-01, -4.98838854e+00],\n",
       "       [ 2.12087348e-01, -3.71894616e+00],\n",
       "       [-8.23619775e-01, -3.37635634e+00],\n",
       "       [-1.41731728e+00, -3.80744108e+00],\n",
       "       [-1.31127437e+00, -5.11685672e+00],\n",
       "       [-1.10497671e+00, -4.84222208e+00],\n",
       "       [-2.17664269e+00, -3.83310500e+00],\n",
       "       [-1.31765570e+00, -4.60523649e+00],\n",
       "       [ 1.27002820e+00, -6.30333701e+00],\n",
       "       [-2.92909299e+00, -4.24650628e+00],\n",
       "       [ 4.89687596e-01, -3.77680440e+00],\n",
       "       [-1.02228738e+00, -4.24721565e+00],\n",
       "       [-5.64362449e-01, -1.66075019e+00],\n",
       "       [-5.00732718e-01, -3.20035898e+00],\n",
       "       [ 4.52309141e-02, -3.21441546e+00],\n",
       "       [-1.55705065e+00, -2.85483111e+00],\n",
       "       [-1.01142182e+00, -3.59023969e+00],\n",
       "       [-1.06801344e+00, -3.73913624e+00],\n",
       "       [-2.49895752e+00, -4.69119709e+00],\n",
       "       [-1.09354517e+00, -2.25131549e+00],\n",
       "       [-2.39643597e+00, -3.22093200e+00],\n",
       "       [-1.09419818e+00, -3.24348426e+00],\n",
       "       [-1.98463110e+00, -4.66248523e+00],\n",
       "       [-3.42722412e-01, -5.26388079e+00],\n",
       "       [ 1.50167215e-01, -4.17843507e+00],\n",
       "       [ 7.79657144e-03, -6.22135569e+00],\n",
       "       [-2.42698662e+00, -4.35742647e+00],\n",
       "       [ 1.82855196e-01, -3.60164493e+00],\n",
       "       [-2.88079326e+00, -5.02999736e+00],\n",
       "       [-3.18224991e+00, -4.24715768e+00],\n",
       "       [ 4.49947473e-01, -4.93526569e+00],\n",
       "       [-3.92070295e+00, -3.52444861e+00],\n",
       "       [-2.75611468e+00, -2.82639636e+00],\n",
       "       [ 5.62352509e-02, -3.84820788e+00],\n",
       "       [-7.50660271e-01, -3.96980635e+00],\n",
       "       [-5.61489906e-01, -4.67545493e+00],\n",
       "       [-2.89796588e+00, -3.16964985e+00],\n",
       "       [-5.34161504e+00, -1.93090048e+00],\n",
       "       [-3.40870371e+00, -1.73038160e+00],\n",
       "       [-5.78031130e+00, -9.64862716e-01],\n",
       "       [-4.66370222e+00, -1.76162197e+00],\n",
       "       [-4.90180588e+00,  5.31258928e-02],\n",
       "       [-4.46820909e+00,  1.09546601e+00],\n",
       "       [-6.62967840e+00,  1.34863375e-01],\n",
       "       [-4.31501409e+00, -1.36119419e+00],\n",
       "       [-4.88372032e+00, -2.23583276e+00],\n",
       "       [-3.36078767e+00, -2.24014464e+00],\n",
       "       [-4.69215049e+00, -9.66412310e-01],\n",
       "       [-5.29936128e+00, -2.98795088e-01],\n",
       "       [-3.74192639e+00, -2.13889026e+00],\n",
       "       [-5.32478874e+00, -1.26088823e+00],\n",
       "       [-4.79351614e+00, -9.96601756e-01],\n",
       "       [-6.07683994e+00,  1.11556338e-01],\n",
       "       [-4.97596010e+00,  4.75519723e-01],\n",
       "       [-3.78771659e+00, -1.63465250e+00],\n",
       "       [-5.92862651e+00, -1.03547249e+00],\n",
       "       [-5.71508124e+00, -1.05123853e+00],\n",
       "       [-8.28391545e+00, -1.77869325e+00],\n",
       "       [-5.92956292e+00, -1.34503700e+00],\n",
       "       [-4.17905717e+00, -1.21077917e+00],\n",
       "       [-4.53229479e+00, -8.98655210e-01],\n",
       "       [-4.38727246e+00,  1.23197180e+00],\n",
       "       [-4.83129479e+00,  2.67276822e-01],\n",
       "       [-5.01735327e+00, -1.12765822e+00],\n",
       "       [-4.99671116e+00, -1.10593044e+00],\n",
       "       [-4.30377801e+00, -1.00594538e-01],\n",
       "       [-4.32920659e+00, -7.03987741e-01],\n",
       "       [-6.59969850e+00, -1.22847188e-01],\n",
       "       [-3.58660198e+00, -7.78745877e-01],\n",
       "       [-4.11944990e+00,  3.47386332e-01],\n",
       "       [-6.55800633e+00,  2.28380037e-01],\n",
       "       [-6.66478853e+00, -1.70017904e+00],\n",
       "       [-4.58732607e+00, -5.20031039e-01],\n",
       "       [-4.46592489e+00,  6.94328323e-01],\n",
       "       [-3.86982866e+00, -7.45736585e-01],\n",
       "       [-5.84646862e+00,  1.52080763e+00],\n",
       "       [-6.75374086e+00, -3.69703523e-01],\n",
       "       [-6.23450433e+00, -1.29138373e+00],\n",
       "       [-5.16581602e+00,  1.64535345e+00],\n",
       "       [-3.63655290e+00, -3.00610864e+00],\n",
       "       [-6.31493026e+00, -3.75034476e-01],\n",
       "       [-4.04965529e+00, -4.36998699e-01],\n",
       "       [-5.37562084e+00, -2.42192455e+00],\n",
       "       [-4.11011783e+00, -1.18598247e+00],\n",
       "       [-5.71046645e+00, -1.21518780e+00],\n",
       "       [-5.17166910e+00, -1.92579127e+00],\n",
       "       [-5.86538249e+00, -3.67845581e+00]])"
      ]
     },
     "execution_count": 5,
     "metadata": {},
     "output_type": "execute_result"
    }
   ],
   "source": [
    "X_test"
   ]
  },
  {
   "cell_type": "markdown",
   "metadata": {
    "id": "GTOjVYUQ2SYO"
   },
   "source": [
    "The remaining 1000 instances will be a part of the train set, where 500 are `True` and 500 are `False`."
   ]
  },
  {
   "cell_type": "code",
   "execution_count": 6,
   "metadata": {
    "colab": {
     "base_uri": "https://localhost:8080/"
    },
    "executionInfo": {
     "elapsed": 22,
     "status": "ok",
     "timestamp": 1657871740232,
     "user": {
      "displayName": "Courtney Ngo",
      "userId": "01361140591205022195"
     },
     "user_tz": -480
    },
    "id": "Nqeijddd2SYp",
    "outputId": "9041cb3d-417e-4960-b2fe-2e1784cebd22"
   },
   "outputs": [
    {
     "name": "stdout",
     "output_type": "stream",
     "text": [
      "(1000, 2)\n",
      "(1000,)\n"
     ]
    }
   ],
   "source": [
    "X_train = np.concatenate((np.delete(X_true, selected_true, 0),\n",
    "                          np.delete(X_false, selected_false, 0)))\n",
    "y_train = np.concatenate((np.array([1 for _ in range(500)]),\n",
    "                          np.array([0 for _ in range(500)])))\n",
    "\n",
    "print(X_train.shape)\n",
    "print(y_train.shape)"
   ]
  },
  {
   "cell_type": "markdown",
   "metadata": {
    "id": "aNM83Z3L2SYp"
   },
   "source": [
    "Visualize the train data."
   ]
  },
  {
   "cell_type": "code",
   "execution_count": 7,
   "metadata": {
    "colab": {
     "base_uri": "https://localhost:8080/",
     "height": 300
    },
    "executionInfo": {
     "elapsed": 19,
     "status": "ok",
     "timestamp": 1657871740233,
     "user": {
      "displayName": "Courtney Ngo",
      "userId": "01361140591205022195"
     },
     "user_tz": -480
    },
    "id": "AsIPrx2P2SYq",
    "outputId": "11b1376d-770b-495f-e775-f6d2f71f6832"
   },
   "outputs": [
    {
     "data": {
      "text/plain": [
       "Text(0.5, 1.0, 'Train data')"
      ]
     },
     "execution_count": 7,
     "metadata": {},
     "output_type": "execute_result"
    },
    {
     "data": {
      "image/png": "[encoded data removed]",
      "text/plain": [
       "<Figure size 640x480 with 1 Axes>"
      ]
     },
     "metadata": {},
     "output_type": "display_data"
    }
   ],
   "source": [
    "plt.scatter(X_train[:, 0], X_train[:, 1], c=y_train)\n",
    "plt.title('Train data')"
   ]
  },
  {
   "cell_type": "markdown",
   "metadata": {
    "id": "YuuF6eSk2SYs"
   },
   "source": [
    "Visualize the test data."
   ]
  },
  {
   "cell_type": "code",
   "execution_count": 8,
   "metadata": {
    "colab": {
     "base_uri": "https://localhost:8080/",
     "height": 300
    },
    "executionInfo": {
     "elapsed": 1205,
     "status": "ok",
     "timestamp": 1657871741425,
     "user": {
      "displayName": "Courtney Ngo",
      "userId": "01361140591205022195"
     },
     "user_tz": -480
    },
    "id": "48k9-50Y2SYs",
    "outputId": "659d0d19-7d0c-4d5e-854c-7c333dfa5f93"
   },
   "outputs": [
    {
     "data": {
      "text/plain": [
       "Text(0.5, 1.0, 'Test data')"
      ]
     },
     "execution_count": 8,
     "metadata": {},
     "output_type": "execute_result"
    },
    {
     "data": {
      "image/png": "[encoded data removed]",
      "text/plain": [
       "<Figure size 640x480 with 1 Axes>"
      ]
     },
     "metadata": {},
     "output_type": "display_data"
    }
   ],
   "source": [
    "plt.scatter(X_test[:, 0], X_test[:, 1], c=y_test)\n",
    "plt.title('Test data')"
   ]
  },
  {
   "cell_type": "markdown",
   "metadata": {
    "id": "Fsmsejds2SYt"
   },
   "source": [
    "## Binomial Logistic Regression on the Toy Dataset\n",
    "\n",
    "Use `sklearn`'s `SGDClassifier` to create your logistic regression model. Since we only have two classes (`True` or `False`), we will be implementing a binomial logistic regression."
   ]
  },
  {
   "cell_type": "markdown",
   "metadata": {
    "id": "JUBAP5ui2SYt"
   },
   "source": [
    "Import the `SGDClassifier` class."
   ]
  },
  {
   "cell_type": "code",
   "execution_count": 9,
   "metadata": {
    "executionInfo": {
     "elapsed": 62,
     "status": "ok",
     "timestamp": 1657871741428,
     "user": {
      "displayName": "Courtney Ngo",
      "userId": "01361140591205022195"
     },
     "user_tz": -480
    },
    "id": "7RgXDCg-2SYt"
   },
   "outputs": [],
   "source": [
    "from sklearn.linear_model import SGDClassifier"
   ]
  },
  {
   "cell_type": "markdown",
   "metadata": {
    "id": "5ExRgXaz2SYu"
   },
   "source": [
    "Instantiate an `SGDClassifier` object. Set the following hyperparameters:\n",
    "- Loss function: 'log_loss'\n",
    "- Initial learning rate: 0.001\n",
    "- Maximum iterations: 200\n",
    "- Learning rate: 'constant'\n",
    "- Random state: 5\n",
    "- Verbose: 1\n",
    "\n",
    "See the documentation [here](https://scikit-learn.org/stable/modules/generated/sklearn.linear_model.SGDClassifier.html)."
   ]
  },
  {
   "cell_type": "code",
   "execution_count": 10,
   "metadata": {
    "executionInfo": {
     "elapsed": 61,
     "status": "ok",
     "timestamp": 1657871741429,
     "user": {
      "displayName": "Courtney Ngo",
      "userId": "01361140591205022195"
     },
     "user_tz": -480
    },
    "id": "De6Za-I42SYu"
   },
   "outputs": [],
   "source": [
    "# Write your code here\n",
    "model = SGDClassifier(loss='log_loss', eta0=0.001, max_iter=200, learning_rate='constant', random_state=5, verbose=1)"
   ]
  },
  {
   "cell_type": "markdown",
   "metadata": {
    "id": "Ar2nv2RF2SYw"
   },
   "source": [
    "Train by calling the `fit()` function of the model."
   ]
  },
  {
   "cell_type": "code",
   "execution_count": 11,
   "metadata": {
    "colab": {
     "base_uri": "https://localhost:8080/"
    },
    "executionInfo": {
     "elapsed": 66,
     "status": "ok",
     "timestamp": 1657871741435,
     "user": {
      "displayName": "Courtney Ngo",
      "userId": "01361140591205022195"
     },
     "user_tz": -480
    },
    "id": "JHLJ70Om2SY2",
    "outputId": "8eb20036-583f-4d26-a5fa-f6ba1a2ed5df"
   },
   "outputs": [
    {
     "name": "stdout",
     "output_type": "stream",
     "text": [
      "-- Epoch 1\n",
      "Norm: 0.65, NNZs: 2, Bias: 0.027283, T: 1000, Avg. loss: 0.361599\n",
      "Total training time: 0.00 seconds.\n",
      "-- Epoch 2\n",
      "Norm: 0.92, NNZs: 2, Bias: 0.045133, T: 2000, Avg. loss: 0.171791\n",
      "Total training time: 0.00 seconds.\n",
      "-- Epoch 3\n",
      "Norm: 1.09, NNZs: 2, Bias: 0.057961, T: 3000, Avg. loss: 0.123258\n",
      "Total training time: 0.00 seconds.\n",
      "-- Epoch 4\n",
      "Norm: 1.22, NNZs: 2, Bias: 0.071192, T: 4000, Avg. loss: 0.100222\n",
      "Total training time: 0.00 seconds.\n",
      "-- Epoch 5\n",
      "Norm: 1.33, NNZs: 2, Bias: 0.079121, T: 5000, Avg. loss: 0.086432\n",
      "Total training time: 0.00 seconds.\n",
      "-- Epoch 6\n",
      "Norm: 1.42, NNZs: 2, Bias: 0.089206, T: 6000, Avg. loss: 0.077237\n",
      "Total training time: 0.00 seconds.\n",
      "-- Epoch 7\n",
      "Norm: 1.49, NNZs: 2, Bias: 0.097319, T: 7000, Avg. loss: 0.070557\n",
      "Total training time: 0.00 seconds.\n",
      "-- Epoch 8\n",
      "Norm: 1.56, NNZs: 2, Bias: 0.103839, T: 8000, Avg. loss: 0.065466\n",
      "Total training time: 0.00 seconds.\n",
      "-- Epoch 9\n",
      "Norm: 1.62, NNZs: 2, Bias: 0.110540, T: 9000, Avg. loss: 0.061462\n",
      "Total training time: 0.00 seconds.\n",
      "-- Epoch 10\n",
      "Norm: 1.67, NNZs: 2, Bias: 0.116640, T: 10000, Avg. loss: 0.058199\n",
      "Total training time: 0.00 seconds.\n",
      "-- Epoch 11\n",
      "Norm: 1.72, NNZs: 2, Bias: 0.122915, T: 11000, Avg. loss: 0.055516\n",
      "Total training time: 0.00 seconds.\n",
      "-- Epoch 12\n",
      "Norm: 1.76, NNZs: 2, Bias: 0.128992, T: 12000, Avg. loss: 0.053239\n",
      "Total training time: 0.00 seconds.\n",
      "-- Epoch 13\n",
      "Norm: 1.81, NNZs: 2, Bias: 0.134906, T: 13000, Avg. loss: 0.051283\n",
      "Total training time: 0.00 seconds.\n",
      "-- Epoch 14\n",
      "Norm: 1.85, NNZs: 2, Bias: 0.140421, T: 14000, Avg. loss: 0.049585\n",
      "Total training time: 0.00 seconds.\n",
      "-- Epoch 15\n",
      "Norm: 1.88, NNZs: 2, Bias: 0.145093, T: 15000, Avg. loss: 0.048088\n",
      "Total training time: 0.00 seconds.\n",
      "-- Epoch 16\n",
      "Norm: 1.92, NNZs: 2, Bias: 0.150809, T: 16000, Avg. loss: 0.046775\n",
      "Total training time: 0.00 seconds.\n",
      "-- Epoch 17\n",
      "Norm: 1.95, NNZs: 2, Bias: 0.156173, T: 17000, Avg. loss: 0.045592\n",
      "Total training time: 0.00 seconds.\n",
      "-- Epoch 18\n",
      "Norm: 1.98, NNZs: 2, Bias: 0.160727, T: 18000, Avg. loss: 0.044550\n",
      "Total training time: 0.00 seconds.\n",
      "-- Epoch 19\n",
      "Norm: 2.01, NNZs: 2, Bias: 0.165117, T: 19000, Avg. loss: 0.043594\n",
      "Total training time: 0.00 seconds.\n",
      "-- Epoch 20\n",
      "Norm: 2.04, NNZs: 2, Bias: 0.169750, T: 20000, Avg. loss: 0.042728\n",
      "Total training time: 0.00 seconds.\n",
      "-- Epoch 21\n",
      "Norm: 2.07, NNZs: 2, Bias: 0.174549, T: 21000, Avg. loss: 0.041928\n",
      "Total training time: 0.00 seconds.\n",
      "-- Epoch 22\n",
      "Norm: 2.09, NNZs: 2, Bias: 0.178975, T: 22000, Avg. loss: 0.041210\n",
      "Total training time: 0.00 seconds.\n",
      "-- Epoch 23\n",
      "Norm: 2.12, NNZs: 2, Bias: 0.183160, T: 23000, Avg. loss: 0.040543\n",
      "Total training time: 0.00 seconds.\n",
      "Convergence after 23 epochs took 0.00 seconds\n"
     ]
    },
    {
     "data": {
      "text/html": [
       "<style>#sk-container-id-1 {\n",
       "  /* Definition of color scheme common for light and dark mode */\n",
       "  --sklearn-color-text: black;\n",
       "  --sklearn-color-line: gray;\n",
       "  /* Definition of color scheme for unfitted estimators */\n",
       "  --sklearn-color-unfitted-level-0: #fff5e6;\n",
       "  --sklearn-color-unfitted-level-1: #f6e4d2;\n",
       "  --sklearn-color-unfitted-level-2: #ffe0b3;\n",
       "  --sklearn-color-unfitted-level-3: chocolate;\n",
       "  /* Definition of color scheme for fitted estimators */\n",
       "  --sklearn-color-fitted-level-0: #f0f8ff;\n",
       "  --sklearn-color-fitted-level-1: #d4ebff;\n",
       "  --sklearn-color-fitted-level-2: #b3dbfd;\n",
       "  --sklearn-color-fitted-level-3: cornflowerblue;\n",
       "\n",
       "  /* Specific color for light theme */\n",
       "  --sklearn-color-text-on-default-background: var(--sg-text-color, var(--theme-code-foreground, var(--jp-content-font-color1, black)));\n",
       "  --sklearn-color-background: var(--sg-background-color, var(--theme-background, var(--jp-layout-color0, white)));\n",
       "  --sklearn-color-border-box: var(--sg-text-color, var(--theme-code-foreground, var(--jp-content-font-color1, black)));\n",
       "  --sklearn-color-icon: #696969;\n",
       "\n",
       "  @media (prefers-color-scheme: dark) {\n",
       "    /* Redefinition of color scheme for dark theme */\n",
       "    --sklearn-color-text-on-default-background: var(--sg-text-color, var(--theme-code-foreground, var(--jp-content-font-color1, white)));\n",
       "    --sklearn-color-background: var(--sg-background-color, var(--theme-background, var(--jp-layout-color0, #111)));\n",
       "    --sklearn-color-border-box: var(--sg-text-color, var(--theme-code-foreground, var(--jp-content-font-color1, white)));\n",
       "    --sklearn-color-icon: #878787;\n",
       "  }\n",
       "}\n",
       "\n",
       "#sk-container-id-1 {\n",
       "  color: var(--sklearn-color-text);\n",
       "}\n",
       "\n",
       "#sk-container-id-1 pre {\n",
       "  padding: 0;\n",
       "}\n",
       "\n",
       "#sk-container-id-1 input.sk-hidden--visually {\n",
       "  border: 0;\n",
       "  clip: rect(1px 1px 1px 1px);\n",
       "  clip: rect(1px, 1px, 1px, 1px);\n",
       "  height: 1px;\n",
       "  margin: -1px;\n",
       "  overflow: hidden;\n",
       "  padding: 0;\n",
       "  position: absolute;\n",
       "  width: 1px;\n",
       "}\n",
       "\n",
       "#sk-container-id-1 div.sk-dashed-wrapped {\n",
       "  border: 1px dashed var(--sklearn-color-line);\n",
       "  margin: 0 0.4em 0.5em 0.4em;\n",
       "  box-sizing: border-box;\n",
       "  padding-bottom: 0.4em;\n",
       "  background-color: var(--sklearn-color-background);\n",
       "}\n",
       "\n",
       "#sk-container-id-1 div.sk-container {\n",
       "  /* jupyter's `normalize.less` sets `[hidden] { display: none; }`\n",
       "     but bootstrap.min.css set `[hidden] { display: none !important; }`\n",
       "     so we also need the `!important` here to be able to override the\n",
       "     default hidden behavior on the sphinx rendered scikit-learn.org.\n",
       "     See: https://github.com/scikit-learn/scikit-learn/issues/21755 */\n",
       "  display: inline-block !important;\n",
       "  position: relative;\n",
       "}\n",
       "\n",
       "#sk-container-id-1 div.sk-text-repr-fallback {\n",
       "  display: none;\n",
       "}\n",
       "\n",
       "div.sk-parallel-item,\n",
       "div.sk-serial,\n",
       "div.sk-item {\n",
       "  /* draw centered vertical line to link estimators */\n",
       "  background-image: linear-gradient(var(--sklearn-color-text-on-default-background), var(--sklearn-color-text-on-default-background));\n",
       "  background-size: 2px 100%;\n",
       "  background-repeat: no-repeat;\n",
       "  background-position: center center;\n",
       "}\n",
       "\n",
       "/* Parallel-specific style estimator block */\n",
       "\n",
       "#sk-container-id-1 div.sk-parallel-item::after {\n",
       "  content: \"\";\n",
       "  width: 100%;\n",
       "  border-bottom: 2px solid var(--sklearn-color-text-on-default-background);\n",
       "  flex-grow: 1;\n",
       "}\n",
       "\n",
       "#sk-container-id-1 div.sk-parallel {\n",
       "  display: flex;\n",
       "  align-items: stretch;\n",
       "  justify-content: center;\n",
       "  background-color: var(--sklearn-color-background);\n",
       "  position: relative;\n",
       "}\n",
       "\n",
       "#sk-container-id-1 div.sk-parallel-item {\n",
       "  display: flex;\n",
       "  flex-direction: column;\n",
       "}\n",
       "\n",
       "#sk-container-id-1 div.sk-parallel-item:first-child::after {\n",
       "  align-self: flex-end;\n",
       "  width: 50%;\n",
       "}\n",
       "\n",
       "#sk-container-id-1 div.sk-parallel-item:last-child::after {\n",
       "  align-self: flex-start;\n",
       "  width: 50%;\n",
       "}\n",
       "\n",
       "#sk-container-id-1 div.sk-parallel-item:only-child::after {\n",
       "  width: 0;\n",
       "}\n",
       "\n",
       "/* Serial-specific style estimator block */\n",
       "\n",
       "#sk-container-id-1 div.sk-serial {\n",
       "  display: flex;\n",
       "  flex-direction: column;\n",
       "  align-items: center;\n",
       "  background-color: var(--sklearn-color-background);\n",
       "  padding-right: 1em;\n",
       "  padding-left: 1em;\n",
       "}\n",
       "\n",
       "\n",
       "/* Toggleable style: style used for estimator/Pipeline/ColumnTransformer box that is\n",
       "clickable and can be expanded/collapsed.\n",
       "- Pipeline and ColumnTransformer use this feature and define the default style\n",
       "- Estimators will overwrite some part of the style using the `sk-estimator` class\n",
       "*/\n",
       "\n",
       "/* Pipeline and ColumnTransformer style (default) */\n",
       "\n",
       "#sk-container-id-1 div.sk-toggleable {\n",
       "  /* Default theme specific background. It is overwritten whether we have a\n",
       "  specific estimator or a Pipeline/ColumnTransformer */\n",
       "  background-color: var(--sklearn-color-background);\n",
       "}\n",
       "\n",
       "/* Toggleable label */\n",
       "#sk-container-id-1 label.sk-toggleable__label {\n",
       "  cursor: pointer;\n",
       "  display: block;\n",
       "  width: 100%;\n",
       "  margin-bottom: 0;\n",
       "  padding: 0.5em;\n",
       "  box-sizing: border-box;\n",
       "  text-align: center;\n",
       "}\n",
       "\n",
       "#sk-container-id-1 label.sk-toggleable__label-arrow:before {\n",
       "  /* Arrow on the left of the label */\n",
       "  content: \"▸\";\n",
       "  float: left;\n",
       "  margin-right: 0.25em;\n",
       "  color: var(--sklearn-color-icon);\n",
       "}\n",
       "\n",
       "#sk-container-id-1 label.sk-toggleable__label-arrow:hover:before {\n",
       "  color: var(--sklearn-color-text);\n",
       "}\n",
       "\n",
       "/* Toggleable content - dropdown */\n",
       "\n",
       "#sk-container-id-1 div.sk-toggleable__content {\n",
       "  max-height: 0;\n",
       "  max-width: 0;\n",
       "  overflow: hidden;\n",
       "  text-align: left;\n",
       "  /* unfitted */\n",
       "  background-color: var(--sklearn-color-unfitted-level-0);\n",
       "}\n",
       "\n",
       "#sk-container-id-1 div.sk-toggleable__content.fitted {\n",
       "  /* fitted */\n",
       "  background-color: var(--sklearn-color-fitted-level-0);\n",
       "}\n",
       "\n",
       "#sk-container-id-1 div.sk-toggleable__content pre {\n",
       "  margin: 0.2em;\n",
       "  border-radius: 0.25em;\n",
       "  color: var(--sklearn-color-text);\n",
       "  /* unfitted */\n",
       "  background-color: var(--sklearn-color-unfitted-level-0);\n",
       "}\n",
       "\n",
       "#sk-container-id-1 div.sk-toggleable__content.fitted pre {\n",
       "  /* unfitted */\n",
       "  background-color: var(--sklearn-color-fitted-level-0);\n",
       "}\n",
       "\n",
       "#sk-container-id-1 input.sk-toggleable__control:checked~div.sk-toggleable__content {\n",
       "  /* Expand drop-down */\n",
       "  max-height: 200px;\n",
       "  max-width: 100%;\n",
       "  overflow: auto;\n",
       "}\n",
       "\n",
       "#sk-container-id-1 input.sk-toggleable__control:checked~label.sk-toggleable__label-arrow:before {\n",
       "  content: \"▾\";\n",
       "}\n",
       "\n",
       "/* Pipeline/ColumnTransformer-specific style */\n",
       "\n",
       "#sk-container-id-1 div.sk-label input.sk-toggleable__control:checked~label.sk-toggleable__label {\n",
       "  color: var(--sklearn-color-text);\n",
       "  background-color: var(--sklearn-color-unfitted-level-2);\n",
       "}\n",
       "\n",
       "#sk-container-id-1 div.sk-label.fitted input.sk-toggleable__control:checked~label.sk-toggleable__label {\n",
       "  background-color: var(--sklearn-color-fitted-level-2);\n",
       "}\n",
       "\n",
       "/* Estimator-specific style */\n",
       "\n",
       "/* Colorize estimator box */\n",
       "#sk-container-id-1 div.sk-estimator input.sk-toggleable__control:checked~label.sk-toggleable__label {\n",
       "  /* unfitted */\n",
       "  background-color: var(--sklearn-color-unfitted-level-2);\n",
       "}\n",
       "\n",
       "#sk-container-id-1 div.sk-estimator.fitted input.sk-toggleable__control:checked~label.sk-toggleable__label {\n",
       "  /* fitted */\n",
       "  background-color: var(--sklearn-color-fitted-level-2);\n",
       "}\n",
       "\n",
       "#sk-container-id-1 div.sk-label label.sk-toggleable__label,\n",
       "#sk-container-id-1 div.sk-label label {\n",
       "  /* The background is the default theme color */\n",
       "  color: var(--sklearn-color-text-on-default-background);\n",
       "}\n",
       "\n",
       "/* On hover, darken the color of the background */\n",
       "#sk-container-id-1 div.sk-label:hover label.sk-toggleable__label {\n",
       "  color: var(--sklearn-color-text);\n",
       "  background-color: var(--sklearn-color-unfitted-level-2);\n",
       "}\n",
       "\n",
       "/* Label box, darken color on hover, fitted */\n",
       "#sk-container-id-1 div.sk-label.fitted:hover label.sk-toggleable__label.fitted {\n",
       "  color: var(--sklearn-color-text);\n",
       "  background-color: var(--sklearn-color-fitted-level-2);\n",
       "}\n",
       "\n",
       "/* Estimator label */\n",
       "\n",
       "#sk-container-id-1 div.sk-label label {\n",
       "  font-family: monospace;\n",
       "  font-weight: bold;\n",
       "  display: inline-block;\n",
       "  line-height: 1.2em;\n",
       "}\n",
       "\n",
       "#sk-container-id-1 div.sk-label-container {\n",
       "  text-align: center;\n",
       "}\n",
       "\n",
       "/* Estimator-specific */\n",
       "#sk-container-id-1 div.sk-estimator {\n",
       "  font-family: monospace;\n",
       "  border: 1px dotted var(--sklearn-color-border-box);\n",
       "  border-radius: 0.25em;\n",
       "  box-sizing: border-box;\n",
       "  margin-bottom: 0.5em;\n",
       "  /* unfitted */\n",
       "  background-color: var(--sklearn-color-unfitted-level-0);\n",
       "}\n",
       "\n",
       "#sk-container-id-1 div.sk-estimator.fitted {\n",
       "  /* fitted */\n",
       "  background-color: var(--sklearn-color-fitted-level-0);\n",
       "}\n",
       "\n",
       "/* on hover */\n",
       "#sk-container-id-1 div.sk-estimator:hover {\n",
       "  /* unfitted */\n",
       "  background-color: var(--sklearn-color-unfitted-level-2);\n",
       "}\n",
       "\n",
       "#sk-container-id-1 div.sk-estimator.fitted:hover {\n",
       "  /* fitted */\n",
       "  background-color: var(--sklearn-color-fitted-level-2);\n",
       "}\n",
       "\n",
       "/* Specification for estimator info (e.g. \"i\" and \"?\") */\n",
       "\n",
       "/* Common style for \"i\" and \"?\" */\n",
       "\n",
       ".sk-estimator-doc-link,\n",
       "a:link.sk-estimator-doc-link,\n",
       "a:visited.sk-estimator-doc-link {\n",
       "  float: right;\n",
       "  font-size: smaller;\n",
       "  line-height: 1em;\n",
       "  font-family: monospace;\n",
       "  background-color: var(--sklearn-color-background);\n",
       "  border-radius: 1em;\n",
       "  height: 1em;\n",
       "  width: 1em;\n",
       "  text-decoration: none !important;\n",
       "  margin-left: 1ex;\n",
       "  /* unfitted */\n",
       "  border: var(--sklearn-color-unfitted-level-1) 1pt solid;\n",
       "  color: var(--sklearn-color-unfitted-level-1);\n",
       "}\n",
       "\n",
       ".sk-estimator-doc-link.fitted,\n",
       "a:link.sk-estimator-doc-link.fitted,\n",
       "a:visited.sk-estimator-doc-link.fitted {\n",
       "  /* fitted */\n",
       "  border: var(--sklearn-color-fitted-level-1) 1pt solid;\n",
       "  color: var(--sklearn-color-fitted-level-1);\n",
       "}\n",
       "\n",
       "/* On hover */\n",
       "div.sk-estimator:hover .sk-estimator-doc-link:hover,\n",
       ".sk-estimator-doc-link:hover,\n",
       "div.sk-label-container:hover .sk-estimator-doc-link:hover,\n",
       ".sk-estimator-doc-link:hover {\n",
       "  /* unfitted */\n",
       "  background-color: var(--sklearn-color-unfitted-level-3);\n",
       "  color: var(--sklearn-color-background);\n",
       "  text-decoration: none;\n",
       "}\n",
       "\n",
       "div.sk-estimator.fitted:hover .sk-estimator-doc-link.fitted:hover,\n",
       ".sk-estimator-doc-link.fitted:hover,\n",
       "div.sk-label-container:hover .sk-estimator-doc-link.fitted:hover,\n",
       ".sk-estimator-doc-link.fitted:hover {\n",
       "  /* fitted */\n",
       "  background-color: var(--sklearn-color-fitted-level-3);\n",
       "  color: var(--sklearn-color-background);\n",
       "  text-decoration: none;\n",
       "}\n",
       "\n",
       "/* Span, style for the box shown on hovering the info icon */\n",
       ".sk-estimator-doc-link span {\n",
       "  display: none;\n",
       "  z-index: 9999;\n",
       "  position: relative;\n",
       "  font-weight: normal;\n",
       "  right: .2ex;\n",
       "  padding: .5ex;\n",
       "  margin: .5ex;\n",
       "  width: min-content;\n",
       "  min-width: 20ex;\n",
       "  max-width: 50ex;\n",
       "  color: var(--sklearn-color-text);\n",
       "  box-shadow: 2pt 2pt 4pt #999;\n",
       "  /* unfitted */\n",
       "  background: var(--sklearn-color-unfitted-level-0);\n",
       "  border: .5pt solid var(--sklearn-color-unfitted-level-3);\n",
       "}\n",
       "\n",
       ".sk-estimator-doc-link.fitted span {\n",
       "  /* fitted */\n",
       "  background: var(--sklearn-color-fitted-level-0);\n",
       "  border: var(--sklearn-color-fitted-level-3);\n",
       "}\n",
       "\n",
       ".sk-estimator-doc-link:hover span {\n",
       "  display: block;\n",
       "}\n",
       "\n",
       "/* \"?\"-specific style due to the `<a>` HTML tag */\n",
       "\n",
       "#sk-container-id-1 a.estimator_doc_link {\n",
       "  float: right;\n",
       "  font-size: 1rem;\n",
       "  line-height: 1em;\n",
       "  font-family: monospace;\n",
       "  background-color: var(--sklearn-color-background);\n",
       "  border-radius: 1rem;\n",
       "  height: 1rem;\n",
       "  width: 1rem;\n",
       "  text-decoration: none;\n",
       "  /* unfitted */\n",
       "  color: var(--sklearn-color-unfitted-level-1);\n",
       "  border: var(--sklearn-color-unfitted-level-1) 1pt solid;\n",
       "}\n",
       "\n",
       "#sk-container-id-1 a.estimator_doc_link.fitted {\n",
       "  /* fitted */\n",
       "  border: var(--sklearn-color-fitted-level-1) 1pt solid;\n",
       "  color: var(--sklearn-color-fitted-level-1);\n",
       "}\n",
       "\n",
       "/* On hover */\n",
       "#sk-container-id-1 a.estimator_doc_link:hover {\n",
       "  /* unfitted */\n",
       "  background-color: var(--sklearn-color-unfitted-level-3);\n",
       "  color: var(--sklearn-color-background);\n",
       "  text-decoration: none;\n",
       "}\n",
       "\n",
       "#sk-container-id-1 a.estimator_doc_link.fitted:hover {\n",
       "  /* fitted */\n",
       "  background-color: var(--sklearn-color-fitted-level-3);\n",
       "}\n",
       "</style><div id=\"sk-container-id-1\" class=\"sk-top-container\"><div class=\"sk-text-repr-fallback\"><pre>SGDClassifier(eta0=0.001, learning_rate=&#x27;constant&#x27;, loss=&#x27;log_loss&#x27;,\n",
       "              max_iter=200, random_state=5, verbose=1)</pre><b>In a Jupyter environment, please rerun this cell to show the HTML representation or trust the notebook. <br />On GitHub, the HTML representation is unable to render, please try loading this page with nbviewer.org.</b></div><div class=\"sk-container\" hidden><div class=\"sk-item\"><div class=\"sk-estimator fitted sk-toggleable\"><input class=\"sk-toggleable__control sk-hidden--visually\" id=\"sk-estimator-id-1\" type=\"checkbox\" checked><label for=\"sk-estimator-id-1\" class=\"sk-toggleable__label fitted sk-toggleable__label-arrow fitted\">&nbsp;&nbsp;SGDClassifier<a class=\"sk-estimator-doc-link fitted\" rel=\"noreferrer\" target=\"_blank\" href=\"https://scikit-learn.org/1.4/modules/generated/sklearn.linear_model.SGDClassifier.html\">?<span>Documentation for SGDClassifier</span></a><span class=\"sk-estimator-doc-link fitted\">i<span>Fitted</span></span></label><div class=\"sk-toggleable__content fitted\"><pre>SGDClassifier(eta0=0.001, learning_rate=&#x27;constant&#x27;, loss=&#x27;log_loss&#x27;,\n",
       "              max_iter=200, random_state=5, verbose=1)</pre></div> </div></div></div></div>"
      ],
      "text/plain": [
       "SGDClassifier(eta0=0.001, learning_rate='constant', loss='log_loss',\n",
       "              max_iter=200, random_state=5, verbose=1)"
      ]
     },
     "execution_count": 11,
     "metadata": {},
     "output_type": "execute_result"
    }
   ],
   "source": [
    "# Write your code here\n",
    "model.fit(X_train, y_train)"
   ]
  },
  {
   "cell_type": "markdown",
   "metadata": {
    "id": "NnR7nA1S2SY3"
   },
   "source": [
    "**Question #1:** How many epochs did the model train before convergence?"
   ]
  },
  {
   "cell_type": "markdown",
   "metadata": {
    "id": "d1odKLJK2SY4"
   },
   "source": [
    "<!--crumb;qna;Q1-->"
   ]
  },
  {
   "cell_type": "code",
   "execution_count": 12,
   "metadata": {
    "id": "nbVlMxCA2SY5"
   },
   "outputs": [
    {
     "name": "stdout",
     "output_type": "stream",
     "text": [
      "A: It stopped after 23 epochs\n"
     ]
    }
   ],
   "source": [
    "print(f'A: It stopped after {model.n_iter_} epochs')"
   ]
  },
  {
   "cell_type": "markdown",
   "metadata": {
    "id": "6YCMaq9W2SY5"
   },
   "source": [
    "**Question #2:** What is the average loss at the last epoch? Limit to 6 decimal places."
   ]
  },
  {
   "cell_type": "markdown",
   "metadata": {
    "id": "WZwVKtaF2SY5"
   },
   "source": [
    "<!--crumb;qna;Q2-->"
   ]
  },
  {
   "cell_type": "markdown",
   "metadata": {
    "id": "PiIuxPdF2SY6"
   },
   "source": [
    "A: Average loss was 0.040543"
   ]
  },
  {
   "cell_type": "markdown",
   "metadata": {
    "id": "LS25lTJT2SY7"
   },
   "source": [
    "## Try our trained model on the train data\n",
    "\n",
    "Now, let's get the prediction results on the train data to see if our model does well. Store the predicted labels in the variable `predictions`."
   ]
  },
  {
   "cell_type": "code",
   "execution_count": 13,
   "metadata": {
    "colab": {
     "base_uri": "https://localhost:8080/"
    },
    "executionInfo": {
     "elapsed": 61,
     "status": "ok",
     "timestamp": 1657871741436,
     "user": {
      "displayName": "Courtney Ngo",
      "userId": "01361140591205022195"
     },
     "user_tz": -480
    },
    "id": "30KKnOdJ2SY7",
    "outputId": "7facae1d-8a0f-42c2-e621-14ea72515a19"
   },
   "outputs": [],
   "source": [
    "# Write your code here\n",
    "predictions = model.predict(X_train)"
   ]
  },
  {
   "cell_type": "markdown",
   "metadata": {},
   "source": [
    "Print the predictions."
   ]
  },
  {
   "cell_type": "code",
   "execution_count": 14,
   "metadata": {},
   "outputs": [
    {
     "name": "stdout",
     "output_type": "stream",
     "text": [
      "[1 1 1 1 1 1 1 1 1 1 1 1 1 1 1 1 1 1 1 1 1 1 1 1 1 1 1 1 1 1 1 1 1 1 1 1 1\n",
      " 1 1 1 1 1 1 1 1 1 1 1 1 1 1 1 1 1 1 1 1 1 1 1 1 1 1 1 1 1 1 1 1 0 1 1 1 1\n",
      " 1 1 1 1 1 1 1 1 1 1 1 1 1 1 1 1 1 1 1 1 1 1 1 1 1 1 1 1 1 1 1 1 1 1 1 1 1\n",
      " 1 1 1 1 1 1 1 1 1 1 1 1 1 1 1 1 1 1 1 1 1 1 1 1 1 1 1 1 1 1 1 1 1 1 1 1 1\n",
      " 1 1 1 1 1 1 1 1 1 1 1 1 1 1 1 1 1 1 1 1 1 1 1 1 1 1 1 1 1 1 1 1 1 1 1 1 1\n",
      " 1 1 1 1 1 1 0 1 1 1 1 1 1 1 1 1 1 1 1 1 1 1 1 1 1 1 1 1 1 1 1 1 1 1 1 1 1\n",
      " 1 1 1 1 1 1 1 1 1 1 1 1 1 1 1 1 1 1 1 1 1 1 1 1 1 1 1 1 1 1 1 1 1 1 1 1 1\n",
      " 1 1 1 1 1 1 1 1 1 1 1 1 1 1 1 1 1 1 1 1 1 1 1 1 1 1 1 1 1 1 1 1 1 1 1 1 1\n",
      " 1 1 1 1 1 1 1 1 1 1 1 1 1 1 1 1 1 1 1 1 1 1 1 1 1 1 1 1 1 1 1 1 1 1 1 1 1\n",
      " 1 1 1 1 1 1 1 1 1 1 1 1 1 1 1 1 1 1 1 1 1 1 1 1 1 1 1 1 1 0 1 1 1 1 1 1 1\n",
      " 1 1 1 1 1 1 1 1 1 1 0 1 1 1 1 1 1 1 1 1 1 1 1 1 1 1 1 1 1 1 1 1 1 1 1 1 1\n",
      " 1 1 1 1 1 1 1 1 1 1 1 1 1 1 1 1 1 1 1 1 1 1 1 1 1 1 1 1 1 1 1 1 1 1 1 1 1\n",
      " 1 1 1 1 1 1 1 1 1 1 1 1 1 1 1 1 1 1 1 1 1 1 1 1 1 1 1 1 1 1 1 1 1 1 1 1 1\n",
      " 1 1 1 1 1 1 1 1 1 1 1 1 1 1 1 1 1 1 1 0 0 0 0 0 0 0 0 0 0 0 0 0 0 0 0 0 0\n",
      " 0 0 0 0 0 0 0 0 0 0 0 0 0 0 0 0 0 0 0 0 0 0 0 0 0 0 0 0 0 0 0 0 0 0 0 0 0\n",
      " 0 0 0 0 0 0 0 0 0 0 0 0 0 0 0 0 0 0 0 0 0 0 0 0 0 0 0 0 0 0 0 0 0 0 0 0 0\n",
      " 0 0 0 0 0 0 0 0 0 0 0 0 0 0 0 0 0 0 0 0 0 0 0 0 0 0 0 0 0 0 0 0 0 0 0 0 0\n",
      " 0 0 0 0 0 0 0 0 0 0 0 0 0 0 0 0 0 0 0 0 0 0 0 0 0 0 0 0 0 0 0 0 0 0 0 0 0\n",
      " 0 0 0 0 0 0 0 0 0 0 0 0 0 0 0 0 0 0 0 0 0 0 0 0 0 0 0 0 0 0 0 0 0 0 0 0 0\n",
      " 0 0 0 0 0 0 0 0 0 0 0 0 0 0 0 0 0 0 0 0 0 0 0 0 0 0 0 0 0 0 0 0 0 0 0 0 0\n",
      " 0 0 0 0 0 0 0 0 0 0 0 0 0 0 0 0 0 0 0 0 0 0 0 0 0 0 0 0 0 0 0 0 0 0 0 0 0\n",
      " 0 0 0 0 0 0 0 0 0 0 0 0 0 0 0 0 0 0 0 0 0 0 0 0 0 0 0 0 0 0 0 0 0 0 0 0 0\n",
      " 0 0 0 0 0 0 0 0 0 0 0 0 0 0 0 0 0 0 0 0 0 0 0 0 0 0 0 0 0 0 0 0 0 0 0 0 0\n",
      " 0 0 0 0 0 0 0 0 0 0 0 0 0 0 0 0 0 0 0 0 0 0 0 0 1 0 0 0 0 0 1 0 0 0 0 0 0\n",
      " 0 0 0 0 0 0 0 0 0 0 0 0 0 0 0 0 0 0 0 0 0 0 0 0 0 0 0 0 0 0 0 0 0 0 0 0 0\n",
      " 0 0 0 0 0 0 0 0 0 0 0 0 0 0 0 0 0 0 0 0 0 0 0 0 0 0 0 0 0 0 0 0 0 0 0 0 0\n",
      " 0 0 0 0 0 0 0 0 0 0 0 0 0 0 0 0 0 0 0 0 0 0 0 0 0 0 0 0 0 0 0 0 0 0 0 0 0\n",
      " 0]\n"
     ]
    }
   ],
   "source": [
    "print(predictions)"
   ]
  },
  {
   "cell_type": "markdown",
   "metadata": {
    "id": "xOuktQyM2SY7"
   },
   "source": [
    "Compare the ground truth labels with the predicted labels. Store the total number of correct predictions in the variable `num_correct`."
   ]
  },
  {
   "cell_type": "code",
   "execution_count": 15,
   "metadata": {
    "colab": {
     "base_uri": "https://localhost:8080/"
    },
    "executionInfo": {
     "elapsed": 57,
     "status": "ok",
     "timestamp": 1657871741437,
     "user": {
      "displayName": "Courtney Ngo",
      "userId": "01361140591205022195"
     },
     "user_tz": -480
    },
    "id": "mJjMIBIh2SY8",
    "outputId": "4bb9cea6-baea-4e4e-ff3b-238e0b210e90"
   },
   "outputs": [
    {
     "name": "stdout",
     "output_type": "stream",
     "text": [
      "Count: 994 out of 1000\n",
      "Score: 0.994\n"
     ]
    }
   ],
   "source": [
    "# Write your code here\n",
    "num_correct = np.sum(y_train == predictions)\n",
    "\n",
    "print(f'Count: {num_correct} out of {X_train.shape[0]}')\n",
    "print(f'Score: {model.score(X_train, y_train)}')"
   ]
  },
  {
   "cell_type": "markdown",
   "metadata": {},
   "source": [
    "Print the number of correct predictions."
   ]
  },
  {
   "cell_type": "code",
   "execution_count": 16,
   "metadata": {},
   "outputs": [
    {
     "name": "stdout",
     "output_type": "stream",
     "text": [
      "994\n"
     ]
    }
   ],
   "source": [
    "print(num_correct)"
   ]
  },
  {
   "cell_type": "markdown",
   "metadata": {
    "id": "FDcL98RK2SY9"
   },
   "source": [
    "Compute for the accuracy.\n",
    "\n",
    "$$ \\text{accuracy} = \\frac{\\text{number  of  correct  answers}}{\\text{total  number  of   data}} $$\n",
    "\n",
    "Store the accuracy in the variable `accuracy`."
   ]
  },
  {
   "cell_type": "code",
   "execution_count": 17,
   "metadata": {
    "colab": {
     "base_uri": "https://localhost:8080/"
    },
    "executionInfo": {
     "elapsed": 52,
     "status": "ok",
     "timestamp": 1657871741437,
     "user": {
      "displayName": "Courtney Ngo",
      "userId": "01361140591205022195"
     },
     "user_tz": -480
    },
    "id": "DbNJwSqo2SY_",
    "outputId": "cd5f4088-6dd5-4965-d187-e138f6ed092f"
   },
   "outputs": [],
   "source": [
    "# Write your code here\n",
    "accuracy = num_correct/X_train.shape[0]"
   ]
  },
  {
   "cell_type": "markdown",
   "metadata": {},
   "source": [
    "Print the accuracy."
   ]
  },
  {
   "cell_type": "code",
   "execution_count": 18,
   "metadata": {},
   "outputs": [
    {
     "name": "stdout",
     "output_type": "stream",
     "text": [
      "0.994\n"
     ]
    }
   ],
   "source": [
    "print(accuracy)"
   ]
  },
  {
   "cell_type": "markdown",
   "metadata": {
    "id": "wb4rPQvS2SZA"
   },
   "source": [
    "**Question #3:** What is the accuracy of the model when evaluated on the train set? Express your answer in a floating point number from 0 to 1. Limit to 4 decimal places."
   ]
  },
  {
   "cell_type": "markdown",
   "metadata": {
    "id": "xUqY9HIe2SZA"
   },
   "source": [
    "<!--crumb;qna;Q3-->"
   ]
  },
  {
   "cell_type": "code",
   "execution_count": 19,
   "metadata": {
    "id": "lu8396Dj2SZA"
   },
   "outputs": [
    {
     "name": "stdout",
     "output_type": "stream",
     "text": [
      "A: 0.9940\n"
     ]
    }
   ],
   "source": [
    "print(f'A: {model.score(X_train, y_train):.4f}')"
   ]
  },
  {
   "cell_type": "markdown",
   "metadata": {
    "id": "kQ9kcUJI2SZA"
   },
   "source": [
    "You should see a high train accuracy for the training data."
   ]
  },
  {
   "cell_type": "markdown",
   "metadata": {
    "id": "1SzQ6l1w2SZB"
   },
   "source": [
    "## Visualizing our model prediction boundaries\n",
    "\n",
    "To see the prediction boundary, we will predict each possible point on our feature space."
   ]
  },
  {
   "cell_type": "code",
   "execution_count": 20,
   "metadata": {
    "colab": {
     "base_uri": "https://localhost:8080/",
     "height": 283
    },
    "executionInfo": {
     "elapsed": 48,
     "status": "ok",
     "timestamp": 1657871741438,
     "user": {
      "displayName": "Courtney Ngo",
      "userId": "01361140591205022195"
     },
     "user_tz": -480
    },
    "id": "rRMYvMpb2SZB",
    "outputId": "e19164b3-1c00-4996-e1be-498eef7c2446"
   },
   "outputs": [
    {
     "data": {
      "text/plain": [
       "<matplotlib.collections.PathCollection at 0x2e8c8c3e2f0>"
      ]
     },
     "execution_count": 20,
     "metadata": {},
     "output_type": "execute_result"
    },
    {
     "data": {
      "image/png": "[encoded data removed]",
      "text/plain": [
       "<Figure size 640x480 with 1 Axes>"
      ]
     },
     "metadata": {},
     "output_type": "display_data"
    }
   ],
   "source": [
    "x_min, x_max = X_train[:,0].min() - 1, X_train[:,0].max() + 1\n",
    "y_min, y_max = X_train[:,1].min() - 1, X_train[:,1].max() + 1\n",
    "xx, yy = np.meshgrid(np.arange(x_min, x_max, 0.1),\n",
    "                     np.arange(y_min, y_max, 0.1))\n",
    "\n",
    "\n",
    "x_test = np.squeeze(np.stack((xx.ravel(),yy.ravel()))).T\n",
    "Z = model.predict(x_test)\n",
    "\n",
    "Z = Z.reshape(xx.shape)\n",
    "plt.contourf(xx, yy, Z)\n",
    "plt.scatter(X_train[:, 0], X_train[:, 1], c=y_train, edgecolors='black')"
   ]
  },
  {
   "cell_type": "markdown",
   "metadata": {
    "id": "EB54PSku2SZB"
   },
   "source": [
    "Now, let's see if our model can handle our test data."
   ]
  },
  {
   "cell_type": "markdown",
   "metadata": {
    "id": "2Qk3i3rY2SZD"
   },
   "source": [
    "## Try our trained model on the test data\n",
    "\n",
    "Now, let's get the prediction results on the test data to see if our model can handle unseen data. Store the predicted labels in the variable `predictions`."
   ]
  },
  {
   "cell_type": "code",
   "execution_count": 21,
   "metadata": {
    "colab": {
     "base_uri": "https://localhost:8080/"
    },
    "executionInfo": {
     "elapsed": 41,
     "status": "ok",
     "timestamp": 1657871741438,
     "user": {
      "displayName": "Courtney Ngo",
      "userId": "01361140591205022195"
     },
     "user_tz": -480
    },
    "id": "L1b9RIaN2SZD",
    "outputId": "8cdd3782-ece4-4e10-b09d-124c9da1e345"
   },
   "outputs": [],
   "source": [
    "# Write your code here\n",
    "predictions = model.predict(X_test)"
   ]
  },
  {
   "cell_type": "markdown",
   "metadata": {},
   "source": [
    "Print the predictions."
   ]
  },
  {
   "cell_type": "code",
   "execution_count": 22,
   "metadata": {},
   "outputs": [
    {
     "name": "stdout",
     "output_type": "stream",
     "text": [
      "[1 1 1 1 1 1 1 1 1 1 1 1 1 1 1 1 1 1 1 1 1 1 1 1 1 1 1 1 1 1 1 1 1 1 1 1 1\n",
      " 1 1 1 1 1 1 1 1 1 1 1 1 1 0 0 0 0 0 0 0 0 0 0 0 0 0 0 0 0 0 0 0 0 0 0 0 0\n",
      " 0 0 0 0 0 0 0 0 0 0 0 0 0 0 0 0 0 0 0 0 0 0 0 0 0 0]\n"
     ]
    }
   ],
   "source": [
    "print(predictions)"
   ]
  },
  {
   "cell_type": "markdown",
   "metadata": {
    "id": "7_uX_McX2SZD"
   },
   "source": [
    "Compare the ground truth labels with the predicted labels. Store the total number of correct predictions in the variable `num_correct`."
   ]
  },
  {
   "cell_type": "code",
   "execution_count": 23,
   "metadata": {},
   "outputs": [
    {
     "data": {
      "text/plain": [
       "array([1, 1, 1, 1, 1, 1, 1, 1, 1, 1, 1, 1, 1, 1, 1, 1, 1, 1, 1, 1, 1, 1,\n",
       "       1, 1, 1, 1, 1, 1, 1, 1, 1, 1, 1, 1, 1, 1, 1, 1, 1, 1, 1, 1, 1, 1,\n",
       "       1, 1, 1, 1, 1, 1, 0, 0, 0, 0, 0, 0, 0, 0, 0, 0, 0, 0, 0, 0, 0, 0,\n",
       "       0, 0, 0, 0, 0, 0, 0, 0, 0, 0, 0, 0, 0, 0, 0, 0, 0, 0, 0, 0, 0, 0,\n",
       "       0, 0, 0, 0, 0, 0, 0, 0, 0, 0, 0, 0])"
      ]
     },
     "execution_count": 23,
     "metadata": {},
     "output_type": "execute_result"
    }
   ],
   "source": [
    "predictions"
   ]
  },
  {
   "cell_type": "code",
   "execution_count": 24,
   "metadata": {
    "colab": {
     "base_uri": "https://localhost:8080/"
    },
    "executionInfo": {
     "elapsed": 38,
     "status": "ok",
     "timestamp": 1657871741439,
     "user": {
      "displayName": "Courtney Ngo",
      "userId": "01361140591205022195"
     },
     "user_tz": -480
    },
    "id": "LzIH__9K2SZE",
    "outputId": "9a527856-9950-4315-cb92-af9df6f444e1",
    "scrolled": true
   },
   "outputs": [],
   "source": [
    "# Write your code here\n",
    "from pandas import Series\n",
    "num_correct = Series(predictions == y_test).value_counts()[True]"
   ]
  },
  {
   "cell_type": "markdown",
   "metadata": {},
   "source": [
    "Print the number of correct predictions."
   ]
  },
  {
   "cell_type": "code",
   "execution_count": 25,
   "metadata": {},
   "outputs": [
    {
     "name": "stdout",
     "output_type": "stream",
     "text": [
      "100\n"
     ]
    }
   ],
   "source": [
    "print(num_correct)"
   ]
  },
  {
   "cell_type": "markdown",
   "metadata": {
    "id": "gInipBOI2SZG"
   },
   "source": [
    "Compute for the accuracy. Store the accuracy in the variable `accuracy`."
   ]
  },
  {
   "cell_type": "code",
   "execution_count": 26,
   "metadata": {
    "colab": {
     "base_uri": "https://localhost:8080/"
    },
    "executionInfo": {
     "elapsed": 33,
     "status": "ok",
     "timestamp": 1657871741439,
     "user": {
      "displayName": "Courtney Ngo",
      "userId": "01361140591205022195"
     },
     "user_tz": -480
    },
    "id": "j9jFlJro2SZG",
    "outputId": "945fa5f4-3ff1-499e-91f1-c1e4c7573035"
   },
   "outputs": [],
   "source": [
    "# Write your code here\n",
    "accuracy = model.score(X_test, y_test)"
   ]
  },
  {
   "cell_type": "markdown",
   "metadata": {},
   "source": [
    "Print the accuracy."
   ]
  },
  {
   "cell_type": "code",
   "execution_count": 27,
   "metadata": {},
   "outputs": [
    {
     "name": "stdout",
     "output_type": "stream",
     "text": [
      "1.0\n"
     ]
    }
   ],
   "source": [
    "print(accuracy)"
   ]
  },
  {
   "cell_type": "markdown",
   "metadata": {
    "id": "Is52sEDS2SZH"
   },
   "source": [
    "**Question #4:** What is the accuracy of the model when evaluated on the test set? Express your answer in a floating point number from 0 to 1. Limit to 4 decimal places."
   ]
  },
  {
   "cell_type": "markdown",
   "metadata": {
    "id": "oB9WQRmX2SZH"
   },
   "source": [
    "<!--crumb;qna;Q4-->"
   ]
  },
  {
   "cell_type": "code",
   "execution_count": 28,
   "metadata": {
    "id": "a9Mt-bGs2SZI"
   },
   "outputs": [
    {
     "name": "stdout",
     "output_type": "stream",
     "text": [
      "A:\n",
      "Accuracy 1.0000\n",
      "Accuracy 1.0000\n"
     ]
    }
   ],
   "source": [
    "from sklearn.metrics import accuracy_score\n",
    "print(f'A:\\nAccuracy {model.score(X_test, y_test):.4f}')\n",
    "print(f'Accuracy {accuracy_score(model.predict(X_test), y_test):.4f}')"
   ]
  },
  {
   "cell_type": "markdown",
   "metadata": {
    "id": "rNmVKdgV2SZI"
   },
   "source": [
    "You should see  high score for our test data."
   ]
  },
  {
   "cell_type": "markdown",
   "metadata": {
    "id": "L4HPmHv82SZI"
   },
   "source": [
    "## Cat Dataset\n",
    "\n",
    "Now, let's try to make a model on a harder and more complex dataset: the cat image dataset from the previous notebook."
   ]
  },
  {
   "cell_type": "markdown",
   "metadata": {
    "id": "Hj3JKBMZ2SZJ"
   },
   "source": [
    "## Load data\n",
    "\n",
    "Load the `cat_dataset.hdf5` file that you created from the previous notebook."
   ]
  },
  {
   "cell_type": "code",
   "execution_count": 29,
   "metadata": {
    "colab": {
     "base_uri": "https://localhost:8080/",
     "height": 561
    },
    "executionInfo": {
     "elapsed": 819,
     "status": "error",
     "timestamp": 1657871742230,
     "user": {
      "displayName": "Courtney Ngo",
      "userId": "01361140591205022195"
     },
     "user_tz": -480
    },
    "id": "midRC0Rx2SZJ",
    "outputId": "af606db0-fdb1-4d39-8cce-1d83e98f3ebb"
   },
   "outputs": [],
   "source": [
    "# Write your code here\n",
    "readHDF5 = h5py.File('cat_dataset.hdf5', 'r')"
   ]
  },
  {
   "cell_type": "markdown",
   "metadata": {
    "id": "LILC3wmZ2SZK"
   },
   "source": [
    "Get the training images and labels using the keys `train_x` and `train_y`, and store them in the variables `train_images` and `y_train`, respectively."
   ]
  },
  {
   "cell_type": "code",
   "execution_count": 30,
   "metadata": {
    "executionInfo": {
     "elapsed": 28,
     "status": "aborted",
     "timestamp": 1657871742218,
     "user": {
      "displayName": "Courtney Ngo",
      "userId": "01361140591205022195"
     },
     "user_tz": -480
    },
    "id": "MM7Ezf4_2SZK"
   },
   "outputs": [],
   "source": [
    "# Write your code here['']\n",
    "train_images = readHDF5['train_x']\n",
    "y_train = readHDF5['train_y']"
   ]
  },
  {
   "cell_type": "markdown",
   "metadata": {
    "id": "8MsOlqv42SZK"
   },
   "source": [
    "Get the test images and labels using the keys `test_x` and `test_y`, and store them in the variables `test_images` and `y_test`, respectively."
   ]
  },
  {
   "cell_type": "code",
   "execution_count": 31,
   "metadata": {
    "executionInfo": {
     "elapsed": 28,
     "status": "aborted",
     "timestamp": 1657871742219,
     "user": {
      "displayName": "Courtney Ngo",
      "userId": "01361140591205022195"
     },
     "user_tz": -480
    },
    "id": "ZmWAz6MZ2SZL"
   },
   "outputs": [],
   "source": [
    "# Write your code here\n",
    "test_images = readHDF5['test_x']\n",
    "y_test = readHDF5['test_y']"
   ]
  },
  {
   "cell_type": "markdown",
   "metadata": {
    "id": "Z_KCyfMG2SZT"
   },
   "source": [
    "Remove the unnecessary axis in the label `np.ndarray` using `np.squeeze()` function. Print the shapes of the images and labels."
   ]
  },
  {
   "cell_type": "code",
   "execution_count": 32,
   "metadata": {
    "executionInfo": {
     "elapsed": 28,
     "status": "aborted",
     "timestamp": 1657871742219,
     "user": {
      "displayName": "Courtney Ngo",
      "userId": "01361140591205022195"
     },
     "user_tz": -480
    },
    "id": "XdTSwNhS2SZX"
   },
   "outputs": [
    {
     "name": "stdout",
     "output_type": "stream",
     "text": [
      "Train images shape = (209, 64, 64, 3)\n",
      "Train labels shape = (209,)\n",
      "Test images shape = (50, 64, 64, 3)\n",
      "Test labels shape = (50,)\n"
     ]
    }
   ],
   "source": [
    "num_train, H, W, C = train_images.shape\n",
    "num_test, _, _, _ = test_images.shape\n",
    "\n",
    "y_train = np.squeeze(y_train)\n",
    "y_test = np.squeeze(y_test)\n",
    "\n",
    "print('Train images shape =', train_images.shape)\n",
    "print('Train labels shape =', y_train.shape)\n",
    "print('Test images shape =', test_images.shape)\n",
    "print('Test labels shape =', y_test.shape)"
   ]
  },
  {
   "cell_type": "markdown",
   "metadata": {
    "id": "S6V8lhc92SZe"
   },
   "source": [
    "Reshape the images. Keep the `N` axis only and combine `H`, `W` and `C` axes into one axis."
   ]
  },
  {
   "cell_type": "code",
   "execution_count": 33,
   "metadata": {
    "executionInfo": {
     "elapsed": 27,
     "status": "aborted",
     "timestamp": 1657871742219,
     "user": {
      "displayName": "Courtney Ngo",
      "userId": "01361140591205022195"
     },
     "user_tz": -480
    },
    "id": "SnvdUd-P2SZf",
    "scrolled": true
   },
   "outputs": [
    {
     "name": "stdout",
     "output_type": "stream",
     "text": [
      "X_train shape = (209, 12288)\n",
      "Train labels shape = (209,)\n",
      "X_test shape = (50, 12288)\n",
      "Test labels shape = (50,)\n"
     ]
    }
   ],
   "source": [
    "X_train = np.reshape(train_images, [num_train, -1])\n",
    "X_test = np.reshape(test_images, [num_test, -1])\n",
    "\n",
    "print('X_train shape =', X_train.shape)\n",
    "print('Train labels shape =', y_train.shape)\n",
    "print('X_test shape =', X_test.shape)\n",
    "print('Test labels shape =', y_test.shape)"
   ]
  },
  {
   "cell_type": "markdown",
   "metadata": {
    "id": "CzrUFBPA2SZp"
   },
   "source": [
    "## Visualize images\n",
    "\n",
    "Display random images in the training data"
   ]
  },
  {
   "cell_type": "code",
   "execution_count": 34,
   "metadata": {
    "executionInfo": {
     "elapsed": 28,
     "status": "aborted",
     "timestamp": 1657871742220,
     "user": {
      "displayName": "Courtney Ngo",
      "userId": "01361140591205022195"
     },
     "user_tz": -480
    },
    "id": "12zCe6Zv2SZq"
   },
   "outputs": [
    {
     "data": {
      "image/png": "[encoded data removed]",
      "text/plain": [
       "<Figure size 800x600 with 9 Axes>"
      ]
     },
     "metadata": {},
     "output_type": "display_data"
    }
   ],
   "source": [
    "random_index = np.arange(num_train)\n",
    "np.random.shuffle(random_index)\n",
    "plt.figure(figsize=(8, 6))\n",
    "for i in range(9):\n",
    "    plt.subplot(3, 3, i + 1)\n",
    "    plt.imshow(train_images[random_index[i]])\n",
    "    plt.axis('off')\n",
    "    plt.title('Idx = ' + str(random_index[i]) + ', y = ' + str(np.squeeze(y_train[random_index[i]])))"
   ]
  },
  {
   "cell_type": "markdown",
   "metadata": {
    "id": "xzUP9NYz2SZr"
   },
   "source": [
    "Here are the photos, where a `y=1` means it is a cat, and `y=0` means it is not a cat. You should see 9 photos in a 3x3 grid. Each photo has a caption above it displaying the photo's index and classification (`y=0` or `y=1`)."
   ]
  },
  {
   "cell_type": "markdown",
   "metadata": {
    "id": "1Zg5w31w2SZr"
   },
   "source": [
    "## Binomial Logistic Regression on the Cat Dataset\n",
    "\n",
    "Use `sklearn`'s `SGDClassifier` to create your logistic regression model. Since we only have two classes (`Cat` or `Not Cat`), we will be implementing a binomial logistic regression."
   ]
  },
  {
   "cell_type": "markdown",
   "metadata": {
    "id": "hlUqCrpk2SZs"
   },
   "source": [
    "Instantiate an `SGDClassifier` object. Set the following hyperparameters:\n",
    "- Loss function: 'log_loss'\n",
    "- Initial learning rate: 0.001\n",
    "- Maximum iterations: 200\n",
    "- Learning rate: 'constant'\n",
    "- Random state: 5\n",
    "- Verbose: 1\n",
    "\n",
    "See the documentation [here](https://scikit-learn.org/stable/modules/generated/sklearn.linear_model.SGDClassifier.html)."
   ]
  },
  {
   "cell_type": "code",
   "execution_count": 35,
   "metadata": {
    "executionInfo": {
     "elapsed": 29,
     "status": "aborted",
     "timestamp": 1657871742221,
     "user": {
      "displayName": "Courtney Ngo",
      "userId": "01361140591205022195"
     },
     "user_tz": -480
    },
    "id": "uQAnHG1e2SZs"
   },
   "outputs": [],
   "source": [
    "# Write your code here\n",
    "cat_Model = SGDClassifier(loss='log_loss', eta0=0.001, max_iter=200, learning_rate='constant', random_state=5, verbose=1)"
   ]
  },
  {
   "cell_type": "markdown",
   "metadata": {
    "id": "gV0x14JR2SZt"
   },
   "source": [
    "Train the model."
   ]
  },
  {
   "cell_type": "code",
   "execution_count": 36,
   "metadata": {
    "executionInfo": {
     "elapsed": 30,
     "status": "aborted",
     "timestamp": 1657871742222,
     "user": {
      "displayName": "Courtney Ngo",
      "userId": "01361140591205022195"
     },
     "user_tz": -480
    },
    "id": "5_5KTYMb2SZv"
   },
   "outputs": [
    {
     "name": "stdout",
     "output_type": "stream",
     "text": [
      "-- Epoch 1\n",
      "Norm: 0.17, NNZs: 12288, Bias: -0.003598, T: 209, Avg. loss: 0.826306\n",
      "Total training time: 0.01 seconds.\n",
      "-- Epoch 2\n",
      "Norm: 0.28, NNZs: 12288, Bias: -0.005166, T: 418, Avg. loss: 0.792600\n",
      "Total training time: 0.02 seconds.\n",
      "-- Epoch 3\n",
      "Norm: 0.37, NNZs: 12288, Bias: -0.004478, T: 627, Avg. loss: 0.718754\n",
      "Total training time: 0.02 seconds.\n",
      "-- Epoch 4\n",
      "Norm: 0.45, NNZs: 12288, Bias: -0.005966, T: 836, Avg. loss: 0.628177\n",
      "Total training time: 0.03 seconds.\n",
      "-- Epoch 5\n",
      "Norm: 0.53, NNZs: 12288, Bias: -0.006066, T: 1045, Avg. loss: 0.590512\n",
      "Total training time: 0.04 seconds.\n",
      "-- Epoch 6\n",
      "Norm: 0.59, NNZs: 12288, Bias: -0.006759, T: 1254, Avg. loss: 0.587384\n",
      "Total training time: 0.05 seconds.\n",
      "-- Epoch 7\n",
      "Norm: 0.66, NNZs: 12288, Bias: -0.009346, T: 1463, Avg. loss: 0.460594\n",
      "Total training time: 0.06 seconds.\n",
      "-- Epoch 8\n",
      "Norm: 0.72, NNZs: 12288, Bias: -0.010154, T: 1672, Avg. loss: 0.486381\n",
      "Total training time: 0.06 seconds.\n",
      "-- Epoch 9\n",
      "Norm: 0.78, NNZs: 12288, Bias: -0.012640, T: 1881, Avg. loss: 0.510207\n",
      "Total training time: 0.07 seconds.\n",
      "-- Epoch 10\n",
      "Norm: 0.84, NNZs: 12288, Bias: -0.013025, T: 2090, Avg. loss: 0.482073\n",
      "Total training time: 0.08 seconds.\n",
      "-- Epoch 11\n",
      "Norm: 0.89, NNZs: 12288, Bias: -0.011895, T: 2299, Avg. loss: 0.402749\n",
      "Total training time: 0.09 seconds.\n",
      "-- Epoch 12\n",
      "Norm: 0.94, NNZs: 12288, Bias: -0.014085, T: 2508, Avg. loss: 0.406994\n",
      "Total training time: 0.09 seconds.\n",
      "-- Epoch 13\n",
      "Norm: 0.99, NNZs: 12288, Bias: -0.015323, T: 2717, Avg. loss: 0.408403\n",
      "Total training time: 0.10 seconds.\n",
      "-- Epoch 14\n",
      "Norm: 1.04, NNZs: 12288, Bias: -0.014733, T: 2926, Avg. loss: 0.382754\n",
      "Total training time: 0.11 seconds.\n",
      "-- Epoch 15\n",
      "Norm: 1.08, NNZs: 12288, Bias: -0.014937, T: 3135, Avg. loss: 0.349983\n",
      "Total training time: 0.12 seconds.\n",
      "-- Epoch 16\n",
      "Norm: 1.13, NNZs: 12288, Bias: -0.016277, T: 3344, Avg. loss: 0.353869\n",
      "Total training time: 0.12 seconds.\n",
      "-- Epoch 17\n",
      "Norm: 1.17, NNZs: 12288, Bias: -0.016206, T: 3553, Avg. loss: 0.344959\n",
      "Total training time: 0.13 seconds.\n",
      "-- Epoch 18\n",
      "Norm: 1.20, NNZs: 12288, Bias: -0.016179, T: 3762, Avg. loss: 0.317465\n",
      "Total training time: 0.14 seconds.\n",
      "-- Epoch 19\n",
      "Norm: 1.24, NNZs: 12288, Bias: -0.015747, T: 3971, Avg. loss: 0.317045\n",
      "Total training time: 0.14 seconds.\n",
      "-- Epoch 20\n",
      "Norm: 1.28, NNZs: 12288, Bias: -0.015250, T: 4180, Avg. loss: 0.308320\n",
      "Total training time: 0.15 seconds.\n",
      "-- Epoch 21\n",
      "Norm: 1.32, NNZs: 12288, Bias: -0.016722, T: 4389, Avg. loss: 0.293720\n",
      "Total training time: 0.16 seconds.\n",
      "-- Epoch 22\n",
      "Norm: 1.36, NNZs: 12288, Bias: -0.016576, T: 4598, Avg. loss: 0.290975\n",
      "Total training time: 0.17 seconds.\n",
      "-- Epoch 23\n",
      "Norm: 1.40, NNZs: 12288, Bias: -0.016486, T: 4807, Avg. loss: 0.283379\n",
      "Total training time: 0.17 seconds.\n",
      "-- Epoch 24\n",
      "Norm: 1.43, NNZs: 12288, Bias: -0.017246, T: 5016, Avg. loss: 0.264768\n",
      "Total training time: 0.18 seconds.\n",
      "-- Epoch 25\n",
      "Norm: 1.46, NNZs: 12288, Bias: -0.016759, T: 5225, Avg. loss: 0.272231\n",
      "Total training time: 0.19 seconds.\n",
      "-- Epoch 26\n",
      "Norm: 1.49, NNZs: 12288, Bias: -0.017377, T: 5434, Avg. loss: 0.260383\n",
      "Total training time: 0.20 seconds.\n",
      "-- Epoch 27\n",
      "Norm: 1.52, NNZs: 12288, Bias: -0.017619, T: 5643, Avg. loss: 0.240598\n",
      "Total training time: 0.20 seconds.\n",
      "-- Epoch 28\n",
      "Norm: 1.56, NNZs: 12288, Bias: -0.017429, T: 5852, Avg. loss: 0.256211\n",
      "Total training time: 0.21 seconds.\n",
      "-- Epoch 29\n",
      "Norm: 1.58, NNZs: 12288, Bias: -0.016359, T: 6061, Avg. loss: 0.229000\n",
      "Total training time: 0.22 seconds.\n",
      "-- Epoch 30\n",
      "Norm: 1.61, NNZs: 12288, Bias: -0.016867, T: 6270, Avg. loss: 0.233185\n",
      "Total training time: 0.23 seconds.\n",
      "-- Epoch 31\n",
      "Norm: 1.64, NNZs: 12288, Bias: -0.017007, T: 6479, Avg. loss: 0.222322\n",
      "Total training time: 0.24 seconds.\n",
      "-- Epoch 32\n",
      "Norm: 1.67, NNZs: 12288, Bias: -0.015770, T: 6688, Avg. loss: 0.233247\n",
      "Total training time: 0.25 seconds.\n",
      "-- Epoch 33\n",
      "Norm: 1.70, NNZs: 12288, Bias: -0.017410, T: 6897, Avg. loss: 0.212096\n",
      "Total training time: 0.26 seconds.\n",
      "-- Epoch 34\n",
      "Norm: 1.73, NNZs: 12288, Bias: -0.017006, T: 7106, Avg. loss: 0.222578\n",
      "Total training time: 0.26 seconds.\n",
      "-- Epoch 35\n",
      "Norm: 1.75, NNZs: 12288, Bias: -0.015496, T: 7315, Avg. loss: 0.213578\n",
      "Total training time: 0.27 seconds.\n",
      "-- Epoch 36\n",
      "Norm: 1.78, NNZs: 12288, Bias: -0.015478, T: 7524, Avg. loss: 0.191029\n",
      "Total training time: 0.28 seconds.\n",
      "-- Epoch 37\n",
      "Norm: 1.80, NNZs: 12288, Bias: -0.016453, T: 7733, Avg. loss: 0.184668\n",
      "Total training time: 0.28 seconds.\n",
      "-- Epoch 38\n",
      "Norm: 1.83, NNZs: 12288, Bias: -0.015169, T: 7942, Avg. loss: 0.189868\n",
      "Total training time: 0.29 seconds.\n",
      "-- Epoch 39\n",
      "Norm: 1.85, NNZs: 12288, Bias: -0.015528, T: 8151, Avg. loss: 0.183131\n",
      "Total training time: 0.30 seconds.\n",
      "-- Epoch 40\n",
      "Norm: 1.88, NNZs: 12288, Bias: -0.015280, T: 8360, Avg. loss: 0.178123\n",
      "Total training time: 0.31 seconds.\n",
      "-- Epoch 41\n",
      "Norm: 1.90, NNZs: 12288, Bias: -0.015936, T: 8569, Avg. loss: 0.175781\n",
      "Total training time: 0.31 seconds.\n",
      "-- Epoch 42\n",
      "Norm: 1.92, NNZs: 12288, Bias: -0.015705, T: 8778, Avg. loss: 0.183328\n",
      "Total training time: 0.32 seconds.\n",
      "-- Epoch 43\n",
      "Norm: 1.95, NNZs: 12288, Bias: -0.014972, T: 8987, Avg. loss: 0.173238\n",
      "Total training time: 0.33 seconds.\n",
      "-- Epoch 44\n",
      "Norm: 1.97, NNZs: 12288, Bias: -0.015731, T: 9196, Avg. loss: 0.157568\n",
      "Total training time: 0.34 seconds.\n",
      "-- Epoch 45\n",
      "Norm: 1.99, NNZs: 12288, Bias: -0.014743, T: 9405, Avg. loss: 0.162769\n",
      "Total training time: 0.34 seconds.\n",
      "-- Epoch 46\n",
      "Norm: 2.01, NNZs: 12288, Bias: -0.015072, T: 9614, Avg. loss: 0.150537\n",
      "Total training time: 0.35 seconds.\n",
      "-- Epoch 47\n",
      "Norm: 2.04, NNZs: 12288, Bias: -0.014819, T: 9823, Avg. loss: 0.158845\n",
      "Total training time: 0.36 seconds.\n",
      "-- Epoch 48\n",
      "Norm: 2.06, NNZs: 12288, Bias: -0.014547, T: 10032, Avg. loss: 0.154413\n",
      "Total training time: 0.37 seconds.\n",
      "-- Epoch 49\n",
      "Norm: 2.07, NNZs: 12288, Bias: -0.013852, T: 10241, Avg. loss: 0.149282\n",
      "Total training time: 0.37 seconds.\n",
      "-- Epoch 50\n",
      "Norm: 2.10, NNZs: 12288, Bias: -0.014455, T: 10450, Avg. loss: 0.153445\n",
      "Total training time: 0.38 seconds.\n",
      "-- Epoch 51\n",
      "Norm: 2.12, NNZs: 12288, Bias: -0.013463, T: 10659, Avg. loss: 0.141039\n",
      "Total training time: 0.39 seconds.\n",
      "-- Epoch 52\n",
      "Norm: 2.14, NNZs: 12288, Bias: -0.013745, T: 10868, Avg. loss: 0.144681\n",
      "Total training time: 0.40 seconds.\n",
      "-- Epoch 53\n",
      "Norm: 2.15, NNZs: 12288, Bias: -0.013747, T: 11077, Avg. loss: 0.143653\n",
      "Total training time: 0.40 seconds.\n",
      "-- Epoch 54\n",
      "Norm: 2.17, NNZs: 12288, Bias: -0.013762, T: 11286, Avg. loss: 0.138024\n",
      "Total training time: 0.41 seconds.\n",
      "-- Epoch 55\n",
      "Norm: 2.19, NNZs: 12288, Bias: -0.013533, T: 11495, Avg. loss: 0.134821\n",
      "Total training time: 0.42 seconds.\n",
      "-- Epoch 56\n",
      "Norm: 2.21, NNZs: 12288, Bias: -0.013392, T: 11704, Avg. loss: 0.120635\n",
      "Total training time: 0.43 seconds.\n",
      "-- Epoch 57\n",
      "Norm: 2.23, NNZs: 12288, Bias: -0.013377, T: 11913, Avg. loss: 0.132994\n",
      "Total training time: 0.43 seconds.\n",
      "-- Epoch 58\n",
      "Norm: 2.25, NNZs: 12288, Bias: -0.013130, T: 12122, Avg. loss: 0.124740\n",
      "Total training time: 0.44 seconds.\n",
      "-- Epoch 59\n",
      "Norm: 2.26, NNZs: 12288, Bias: -0.012871, T: 12331, Avg. loss: 0.120240\n",
      "Total training time: 0.45 seconds.\n",
      "-- Epoch 60\n",
      "Norm: 2.28, NNZs: 12288, Bias: -0.012337, T: 12540, Avg. loss: 0.129795\n",
      "Total training time: 0.46 seconds.\n",
      "-- Epoch 61\n",
      "Norm: 2.30, NNZs: 12288, Bias: -0.012747, T: 12749, Avg. loss: 0.123026\n",
      "Total training time: 0.47 seconds.\n",
      "Convergence after 61 epochs took 0.47 seconds\n"
     ]
    },
    {
     "data": {
      "text/html": [
       "<style>#sk-container-id-2 {\n",
       "  /* Definition of color scheme common for light and dark mode */\n",
       "  --sklearn-color-text: black;\n",
       "  --sklearn-color-line: gray;\n",
       "  /* Definition of color scheme for unfitted estimators */\n",
       "  --sklearn-color-unfitted-level-0: #fff5e6;\n",
       "  --sklearn-color-unfitted-level-1: #f6e4d2;\n",
       "  --sklearn-color-unfitted-level-2: #ffe0b3;\n",
       "  --sklearn-color-unfitted-level-3: chocolate;\n",
       "  /* Definition of color scheme for fitted estimators */\n",
       "  --sklearn-color-fitted-level-0: #f0f8ff;\n",
       "  --sklearn-color-fitted-level-1: #d4ebff;\n",
       "  --sklearn-color-fitted-level-2: #b3dbfd;\n",
       "  --sklearn-color-fitted-level-3: cornflowerblue;\n",
       "\n",
       "  /* Specific color for light theme */\n",
       "  --sklearn-color-text-on-default-background: var(--sg-text-color, var(--theme-code-foreground, var(--jp-content-font-color1, black)));\n",
       "  --sklearn-color-background: var(--sg-background-color, var(--theme-background, var(--jp-layout-color0, white)));\n",
       "  --sklearn-color-border-box: var(--sg-text-color, var(--theme-code-foreground, var(--jp-content-font-color1, black)));\n",
       "  --sklearn-color-icon: #696969;\n",
       "\n",
       "  @media (prefers-color-scheme: dark) {\n",
       "    /* Redefinition of color scheme for dark theme */\n",
       "    --sklearn-color-text-on-default-background: var(--sg-text-color, var(--theme-code-foreground, var(--jp-content-font-color1, white)));\n",
       "    --sklearn-color-background: var(--sg-background-color, var(--theme-background, var(--jp-layout-color0, #111)));\n",
       "    --sklearn-color-border-box: var(--sg-text-color, var(--theme-code-foreground, var(--jp-content-font-color1, white)));\n",
       "    --sklearn-color-icon: #878787;\n",
       "  }\n",
       "}\n",
       "\n",
       "#sk-container-id-2 {\n",
       "  color: var(--sklearn-color-text);\n",
       "}\n",
       "\n",
       "#sk-container-id-2 pre {\n",
       "  padding: 0;\n",
       "}\n",
       "\n",
       "#sk-container-id-2 input.sk-hidden--visually {\n",
       "  border: 0;\n",
       "  clip: rect(1px 1px 1px 1px);\n",
       "  clip: rect(1px, 1px, 1px, 1px);\n",
       "  height: 1px;\n",
       "  margin: -1px;\n",
       "  overflow: hidden;\n",
       "  padding: 0;\n",
       "  position: absolute;\n",
       "  width: 1px;\n",
       "}\n",
       "\n",
       "#sk-container-id-2 div.sk-dashed-wrapped {\n",
       "  border: 1px dashed var(--sklearn-color-line);\n",
       "  margin: 0 0.4em 0.5em 0.4em;\n",
       "  box-sizing: border-box;\n",
       "  padding-bottom: 0.4em;\n",
       "  background-color: var(--sklearn-color-background);\n",
       "}\n",
       "\n",
       "#sk-container-id-2 div.sk-container {\n",
       "  /* jupyter's `normalize.less` sets `[hidden] { display: none; }`\n",
       "     but bootstrap.min.css set `[hidden] { display: none !important; }`\n",
       "     so we also need the `!important` here to be able to override the\n",
       "     default hidden behavior on the sphinx rendered scikit-learn.org.\n",
       "     See: https://github.com/scikit-learn/scikit-learn/issues/21755 */\n",
       "  display: inline-block !important;\n",
       "  position: relative;\n",
       "}\n",
       "\n",
       "#sk-container-id-2 div.sk-text-repr-fallback {\n",
       "  display: none;\n",
       "}\n",
       "\n",
       "div.sk-parallel-item,\n",
       "div.sk-serial,\n",
       "div.sk-item {\n",
       "  /* draw centered vertical line to link estimators */\n",
       "  background-image: linear-gradient(var(--sklearn-color-text-on-default-background), var(--sklearn-color-text-on-default-background));\n",
       "  background-size: 2px 100%;\n",
       "  background-repeat: no-repeat;\n",
       "  background-position: center center;\n",
       "}\n",
       "\n",
       "/* Parallel-specific style estimator block */\n",
       "\n",
       "#sk-container-id-2 div.sk-parallel-item::after {\n",
       "  content: \"\";\n",
       "  width: 100%;\n",
       "  border-bottom: 2px solid var(--sklearn-color-text-on-default-background);\n",
       "  flex-grow: 1;\n",
       "}\n",
       "\n",
       "#sk-container-id-2 div.sk-parallel {\n",
       "  display: flex;\n",
       "  align-items: stretch;\n",
       "  justify-content: center;\n",
       "  background-color: var(--sklearn-color-background);\n",
       "  position: relative;\n",
       "}\n",
       "\n",
       "#sk-container-id-2 div.sk-parallel-item {\n",
       "  display: flex;\n",
       "  flex-direction: column;\n",
       "}\n",
       "\n",
       "#sk-container-id-2 div.sk-parallel-item:first-child::after {\n",
       "  align-self: flex-end;\n",
       "  width: 50%;\n",
       "}\n",
       "\n",
       "#sk-container-id-2 div.sk-parallel-item:last-child::after {\n",
       "  align-self: flex-start;\n",
       "  width: 50%;\n",
       "}\n",
       "\n",
       "#sk-container-id-2 div.sk-parallel-item:only-child::after {\n",
       "  width: 0;\n",
       "}\n",
       "\n",
       "/* Serial-specific style estimator block */\n",
       "\n",
       "#sk-container-id-2 div.sk-serial {\n",
       "  display: flex;\n",
       "  flex-direction: column;\n",
       "  align-items: center;\n",
       "  background-color: var(--sklearn-color-background);\n",
       "  padding-right: 1em;\n",
       "  padding-left: 1em;\n",
       "}\n",
       "\n",
       "\n",
       "/* Toggleable style: style used for estimator/Pipeline/ColumnTransformer box that is\n",
       "clickable and can be expanded/collapsed.\n",
       "- Pipeline and ColumnTransformer use this feature and define the default style\n",
       "- Estimators will overwrite some part of the style using the `sk-estimator` class\n",
       "*/\n",
       "\n",
       "/* Pipeline and ColumnTransformer style (default) */\n",
       "\n",
       "#sk-container-id-2 div.sk-toggleable {\n",
       "  /* Default theme specific background. It is overwritten whether we have a\n",
       "  specific estimator or a Pipeline/ColumnTransformer */\n",
       "  background-color: var(--sklearn-color-background);\n",
       "}\n",
       "\n",
       "/* Toggleable label */\n",
       "#sk-container-id-2 label.sk-toggleable__label {\n",
       "  cursor: pointer;\n",
       "  display: block;\n",
       "  width: 100%;\n",
       "  margin-bottom: 0;\n",
       "  padding: 0.5em;\n",
       "  box-sizing: border-box;\n",
       "  text-align: center;\n",
       "}\n",
       "\n",
       "#sk-container-id-2 label.sk-toggleable__label-arrow:before {\n",
       "  /* Arrow on the left of the label */\n",
       "  content: \"▸\";\n",
       "  float: left;\n",
       "  margin-right: 0.25em;\n",
       "  color: var(--sklearn-color-icon);\n",
       "}\n",
       "\n",
       "#sk-container-id-2 label.sk-toggleable__label-arrow:hover:before {\n",
       "  color: var(--sklearn-color-text);\n",
       "}\n",
       "\n",
       "/* Toggleable content - dropdown */\n",
       "\n",
       "#sk-container-id-2 div.sk-toggleable__content {\n",
       "  max-height: 0;\n",
       "  max-width: 0;\n",
       "  overflow: hidden;\n",
       "  text-align: left;\n",
       "  /* unfitted */\n",
       "  background-color: var(--sklearn-color-unfitted-level-0);\n",
       "}\n",
       "\n",
       "#sk-container-id-2 div.sk-toggleable__content.fitted {\n",
       "  /* fitted */\n",
       "  background-color: var(--sklearn-color-fitted-level-0);\n",
       "}\n",
       "\n",
       "#sk-container-id-2 div.sk-toggleable__content pre {\n",
       "  margin: 0.2em;\n",
       "  border-radius: 0.25em;\n",
       "  color: var(--sklearn-color-text);\n",
       "  /* unfitted */\n",
       "  background-color: var(--sklearn-color-unfitted-level-0);\n",
       "}\n",
       "\n",
       "#sk-container-id-2 div.sk-toggleable__content.fitted pre {\n",
       "  /* unfitted */\n",
       "  background-color: var(--sklearn-color-fitted-level-0);\n",
       "}\n",
       "\n",
       "#sk-container-id-2 input.sk-toggleable__control:checked~div.sk-toggleable__content {\n",
       "  /* Expand drop-down */\n",
       "  max-height: 200px;\n",
       "  max-width: 100%;\n",
       "  overflow: auto;\n",
       "}\n",
       "\n",
       "#sk-container-id-2 input.sk-toggleable__control:checked~label.sk-toggleable__label-arrow:before {\n",
       "  content: \"▾\";\n",
       "}\n",
       "\n",
       "/* Pipeline/ColumnTransformer-specific style */\n",
       "\n",
       "#sk-container-id-2 div.sk-label input.sk-toggleable__control:checked~label.sk-toggleable__label {\n",
       "  color: var(--sklearn-color-text);\n",
       "  background-color: var(--sklearn-color-unfitted-level-2);\n",
       "}\n",
       "\n",
       "#sk-container-id-2 div.sk-label.fitted input.sk-toggleable__control:checked~label.sk-toggleable__label {\n",
       "  background-color: var(--sklearn-color-fitted-level-2);\n",
       "}\n",
       "\n",
       "/* Estimator-specific style */\n",
       "\n",
       "/* Colorize estimator box */\n",
       "#sk-container-id-2 div.sk-estimator input.sk-toggleable__control:checked~label.sk-toggleable__label {\n",
       "  /* unfitted */\n",
       "  background-color: var(--sklearn-color-unfitted-level-2);\n",
       "}\n",
       "\n",
       "#sk-container-id-2 div.sk-estimator.fitted input.sk-toggleable__control:checked~label.sk-toggleable__label {\n",
       "  /* fitted */\n",
       "  background-color: var(--sklearn-color-fitted-level-2);\n",
       "}\n",
       "\n",
       "#sk-container-id-2 div.sk-label label.sk-toggleable__label,\n",
       "#sk-container-id-2 div.sk-label label {\n",
       "  /* The background is the default theme color */\n",
       "  color: var(--sklearn-color-text-on-default-background);\n",
       "}\n",
       "\n",
       "/* On hover, darken the color of the background */\n",
       "#sk-container-id-2 div.sk-label:hover label.sk-toggleable__label {\n",
       "  color: var(--sklearn-color-text);\n",
       "  background-color: var(--sklearn-color-unfitted-level-2);\n",
       "}\n",
       "\n",
       "/* Label box, darken color on hover, fitted */\n",
       "#sk-container-id-2 div.sk-label.fitted:hover label.sk-toggleable__label.fitted {\n",
       "  color: var(--sklearn-color-text);\n",
       "  background-color: var(--sklearn-color-fitted-level-2);\n",
       "}\n",
       "\n",
       "/* Estimator label */\n",
       "\n",
       "#sk-container-id-2 div.sk-label label {\n",
       "  font-family: monospace;\n",
       "  font-weight: bold;\n",
       "  display: inline-block;\n",
       "  line-height: 1.2em;\n",
       "}\n",
       "\n",
       "#sk-container-id-2 div.sk-label-container {\n",
       "  text-align: center;\n",
       "}\n",
       "\n",
       "/* Estimator-specific */\n",
       "#sk-container-id-2 div.sk-estimator {\n",
       "  font-family: monospace;\n",
       "  border: 1px dotted var(--sklearn-color-border-box);\n",
       "  border-radius: 0.25em;\n",
       "  box-sizing: border-box;\n",
       "  margin-bottom: 0.5em;\n",
       "  /* unfitted */\n",
       "  background-color: var(--sklearn-color-unfitted-level-0);\n",
       "}\n",
       "\n",
       "#sk-container-id-2 div.sk-estimator.fitted {\n",
       "  /* fitted */\n",
       "  background-color: var(--sklearn-color-fitted-level-0);\n",
       "}\n",
       "\n",
       "/* on hover */\n",
       "#sk-container-id-2 div.sk-estimator:hover {\n",
       "  /* unfitted */\n",
       "  background-color: var(--sklearn-color-unfitted-level-2);\n",
       "}\n",
       "\n",
       "#sk-container-id-2 div.sk-estimator.fitted:hover {\n",
       "  /* fitted */\n",
       "  background-color: var(--sklearn-color-fitted-level-2);\n",
       "}\n",
       "\n",
       "/* Specification for estimator info (e.g. \"i\" and \"?\") */\n",
       "\n",
       "/* Common style for \"i\" and \"?\" */\n",
       "\n",
       ".sk-estimator-doc-link,\n",
       "a:link.sk-estimator-doc-link,\n",
       "a:visited.sk-estimator-doc-link {\n",
       "  float: right;\n",
       "  font-size: smaller;\n",
       "  line-height: 1em;\n",
       "  font-family: monospace;\n",
       "  background-color: var(--sklearn-color-background);\n",
       "  border-radius: 1em;\n",
       "  height: 1em;\n",
       "  width: 1em;\n",
       "  text-decoration: none !important;\n",
       "  margin-left: 1ex;\n",
       "  /* unfitted */\n",
       "  border: var(--sklearn-color-unfitted-level-1) 1pt solid;\n",
       "  color: var(--sklearn-color-unfitted-level-1);\n",
       "}\n",
       "\n",
       ".sk-estimator-doc-link.fitted,\n",
       "a:link.sk-estimator-doc-link.fitted,\n",
       "a:visited.sk-estimator-doc-link.fitted {\n",
       "  /* fitted */\n",
       "  border: var(--sklearn-color-fitted-level-1) 1pt solid;\n",
       "  color: var(--sklearn-color-fitted-level-1);\n",
       "}\n",
       "\n",
       "/* On hover */\n",
       "div.sk-estimator:hover .sk-estimator-doc-link:hover,\n",
       ".sk-estimator-doc-link:hover,\n",
       "div.sk-label-container:hover .sk-estimator-doc-link:hover,\n",
       ".sk-estimator-doc-link:hover {\n",
       "  /* unfitted */\n",
       "  background-color: var(--sklearn-color-unfitted-level-3);\n",
       "  color: var(--sklearn-color-background);\n",
       "  text-decoration: none;\n",
       "}\n",
       "\n",
       "div.sk-estimator.fitted:hover .sk-estimator-doc-link.fitted:hover,\n",
       ".sk-estimator-doc-link.fitted:hover,\n",
       "div.sk-label-container:hover .sk-estimator-doc-link.fitted:hover,\n",
       ".sk-estimator-doc-link.fitted:hover {\n",
       "  /* fitted */\n",
       "  background-color: var(--sklearn-color-fitted-level-3);\n",
       "  color: var(--sklearn-color-background);\n",
       "  text-decoration: none;\n",
       "}\n",
       "\n",
       "/* Span, style for the box shown on hovering the info icon */\n",
       ".sk-estimator-doc-link span {\n",
       "  display: none;\n",
       "  z-index: 9999;\n",
       "  position: relative;\n",
       "  font-weight: normal;\n",
       "  right: .2ex;\n",
       "  padding: .5ex;\n",
       "  margin: .5ex;\n",
       "  width: min-content;\n",
       "  min-width: 20ex;\n",
       "  max-width: 50ex;\n",
       "  color: var(--sklearn-color-text);\n",
       "  box-shadow: 2pt 2pt 4pt #999;\n",
       "  /* unfitted */\n",
       "  background: var(--sklearn-color-unfitted-level-0);\n",
       "  border: .5pt solid var(--sklearn-color-unfitted-level-3);\n",
       "}\n",
       "\n",
       ".sk-estimator-doc-link.fitted span {\n",
       "  /* fitted */\n",
       "  background: var(--sklearn-color-fitted-level-0);\n",
       "  border: var(--sklearn-color-fitted-level-3);\n",
       "}\n",
       "\n",
       ".sk-estimator-doc-link:hover span {\n",
       "  display: block;\n",
       "}\n",
       "\n",
       "/* \"?\"-specific style due to the `<a>` HTML tag */\n",
       "\n",
       "#sk-container-id-2 a.estimator_doc_link {\n",
       "  float: right;\n",
       "  font-size: 1rem;\n",
       "  line-height: 1em;\n",
       "  font-family: monospace;\n",
       "  background-color: var(--sklearn-color-background);\n",
       "  border-radius: 1rem;\n",
       "  height: 1rem;\n",
       "  width: 1rem;\n",
       "  text-decoration: none;\n",
       "  /* unfitted */\n",
       "  color: var(--sklearn-color-unfitted-level-1);\n",
       "  border: var(--sklearn-color-unfitted-level-1) 1pt solid;\n",
       "}\n",
       "\n",
       "#sk-container-id-2 a.estimator_doc_link.fitted {\n",
       "  /* fitted */\n",
       "  border: var(--sklearn-color-fitted-level-1) 1pt solid;\n",
       "  color: var(--sklearn-color-fitted-level-1);\n",
       "}\n",
       "\n",
       "/* On hover */\n",
       "#sk-container-id-2 a.estimator_doc_link:hover {\n",
       "  /* unfitted */\n",
       "  background-color: var(--sklearn-color-unfitted-level-3);\n",
       "  color: var(--sklearn-color-background);\n",
       "  text-decoration: none;\n",
       "}\n",
       "\n",
       "#sk-container-id-2 a.estimator_doc_link.fitted:hover {\n",
       "  /* fitted */\n",
       "  background-color: var(--sklearn-color-fitted-level-3);\n",
       "}\n",
       "</style><div id=\"sk-container-id-2\" class=\"sk-top-container\"><div class=\"sk-text-repr-fallback\"><pre>SGDClassifier(eta0=0.001, learning_rate=&#x27;constant&#x27;, loss=&#x27;log_loss&#x27;,\n",
       "              max_iter=200, random_state=5, verbose=1)</pre><b>In a Jupyter environment, please rerun this cell to show the HTML representation or trust the notebook. <br />On GitHub, the HTML representation is unable to render, please try loading this page with nbviewer.org.</b></div><div class=\"sk-container\" hidden><div class=\"sk-item\"><div class=\"sk-estimator fitted sk-toggleable\"><input class=\"sk-toggleable__control sk-hidden--visually\" id=\"sk-estimator-id-2\" type=\"checkbox\" checked><label for=\"sk-estimator-id-2\" class=\"sk-toggleable__label fitted sk-toggleable__label-arrow fitted\">&nbsp;&nbsp;SGDClassifier<a class=\"sk-estimator-doc-link fitted\" rel=\"noreferrer\" target=\"_blank\" href=\"https://scikit-learn.org/1.4/modules/generated/sklearn.linear_model.SGDClassifier.html\">?<span>Documentation for SGDClassifier</span></a><span class=\"sk-estimator-doc-link fitted\">i<span>Fitted</span></span></label><div class=\"sk-toggleable__content fitted\"><pre>SGDClassifier(eta0=0.001, learning_rate=&#x27;constant&#x27;, loss=&#x27;log_loss&#x27;,\n",
       "              max_iter=200, random_state=5, verbose=1)</pre></div> </div></div></div></div>"
      ],
      "text/plain": [
       "SGDClassifier(eta0=0.001, learning_rate='constant', loss='log_loss',\n",
       "              max_iter=200, random_state=5, verbose=1)"
      ]
     },
     "execution_count": 36,
     "metadata": {},
     "output_type": "execute_result"
    }
   ],
   "source": [
    "# Write your code here\n",
    "cat_Model.fit(X_train, y_train)"
   ]
  },
  {
   "cell_type": "markdown",
   "metadata": {
    "id": "ETQXYfNx2SZv"
   },
   "source": [
    "**Question #5:** How many epochs did the model train before convergence?"
   ]
  },
  {
   "cell_type": "markdown",
   "metadata": {
    "id": "a_KRulND2SZw"
   },
   "source": [
    "<!--crumb;qna;Q5-->"
   ]
  },
  {
   "cell_type": "code",
   "execution_count": 37,
   "metadata": {
    "id": "8WC0StOw2SZw"
   },
   "outputs": [
    {
     "name": "stdout",
     "output_type": "stream",
     "text": [
      "A: 61 epochs\n"
     ]
    }
   ],
   "source": [
    "print(f'A: {cat_Model.n_iter_} epochs')"
   ]
  },
  {
   "cell_type": "markdown",
   "metadata": {
    "id": "sWNPOVvq2SZw"
   },
   "source": [
    "## Try our trained model on the test data\n",
    "\n",
    "Now, let's get the prediction results on the test data to see if our model can handle unseen data. Store the predicted labels in the variable `predictions`."
   ]
  },
  {
   "cell_type": "code",
   "execution_count": 38,
   "metadata": {
    "executionInfo": {
     "elapsed": 30,
     "status": "aborted",
     "timestamp": 1657871742222,
     "user": {
      "displayName": "Courtney Ngo",
      "userId": "01361140591205022195"
     },
     "user_tz": -480
    },
    "id": "C1obi02o2SZx"
   },
   "outputs": [],
   "source": [
    "# Write your code here\n",
    "predictions = cat_Model.predict(X_test)"
   ]
  },
  {
   "cell_type": "markdown",
   "metadata": {},
   "source": [
    "Print the predictions."
   ]
  },
  {
   "cell_type": "code",
   "execution_count": 39,
   "metadata": {},
   "outputs": [
    {
     "name": "stdout",
     "output_type": "stream",
     "text": [
      "[1 1 1 1 1 1 0 1 1 1 0 1 1 1 0 1 0 1 0 0 1 0 0 1 1 1 1 0 0 1 0 1 1 0 1 0 0\n",
      " 1 0 0 1 0 1 0 1 1 0 1 1 0]\n"
     ]
    }
   ],
   "source": [
    "print(predictions)"
   ]
  },
  {
   "cell_type": "markdown",
   "metadata": {
    "id": "WnCiT3JR2SZx"
   },
   "source": [
    "Compare the ground truth labels with the predicted labels. Store the total number of correct predictions in the variable `num_correct`."
   ]
  },
  {
   "cell_type": "code",
   "execution_count": 40,
   "metadata": {
    "executionInfo": {
     "elapsed": 29,
     "status": "aborted",
     "timestamp": 1657871742222,
     "user": {
      "displayName": "Courtney Ngo",
      "userId": "01361140591205022195"
     },
     "user_tz": -480
    },
    "id": "45155Xxx2SZy"
   },
   "outputs": [],
   "source": [
    "# Write your code here\n",
    "num_correct = Series(predictions == y_test).value_counts()[True]"
   ]
  },
  {
   "cell_type": "markdown",
   "metadata": {},
   "source": [
    "Print the number of correct predictions."
   ]
  },
  {
   "cell_type": "code",
   "execution_count": 41,
   "metadata": {},
   "outputs": [
    {
     "name": "stdout",
     "output_type": "stream",
     "text": [
      "35\n"
     ]
    }
   ],
   "source": [
    "print(num_correct)"
   ]
  },
  {
   "cell_type": "markdown",
   "metadata": {
    "id": "tiJvrWiC2SZ5"
   },
   "source": [
    "Compute for the accuracy. Store the accuracy in the variable `accuracy`."
   ]
  },
  {
   "cell_type": "code",
   "execution_count": 42,
   "metadata": {
    "executionInfo": {
     "elapsed": 30,
     "status": "aborted",
     "timestamp": 1657871742223,
     "user": {
      "displayName": "Courtney Ngo",
      "userId": "01361140591205022195"
     },
     "user_tz": -480
    },
    "id": "gQHJEaXy2SZ5"
   },
   "outputs": [],
   "source": [
    "# Write your code here\n",
    "accuracy = num_correct / y_test.shape[0]"
   ]
  },
  {
   "cell_type": "markdown",
   "metadata": {},
   "source": [
    "Print the accuracy."
   ]
  },
  {
   "cell_type": "code",
   "execution_count": 43,
   "metadata": {},
   "outputs": [
    {
     "name": "stdout",
     "output_type": "stream",
     "text": [
      "0.7\n"
     ]
    }
   ],
   "source": [
    "print(accuracy)"
   ]
  },
  {
   "cell_type": "markdown",
   "metadata": {
    "id": "U9wQQlOj2SZ6"
   },
   "source": [
    "**Question #6:** What is the accuracy of the model when evaluated on the test set? Express your answer in a floating point number from 0 to 1. Limit to 4 decimal places."
   ]
  },
  {
   "cell_type": "markdown",
   "metadata": {
    "id": "TlePZ4KW2SZ6"
   },
   "source": [
    "<!--crumb;qna;Q6-->"
   ]
  },
  {
   "cell_type": "code",
   "execution_count": 44,
   "metadata": {
    "id": "t14sINYz2SZ6"
   },
   "outputs": [
    {
     "name": "stdout",
     "output_type": "stream",
     "text": [
      "A:\n",
      "Accuracy: 0.7000 -- 35/50\n",
      "Score: 0.7000\n"
     ]
    }
   ],
   "source": [
    "print('A:')\n",
    "print(f'Accuracy: {accuracy:.4f} -- {num_correct}/{X_test.shape[0]}')\n",
    "print(f'Score: {cat_Model.score(X_test, y_test):.4f}')"
   ]
  },
  {
   "cell_type": "markdown",
   "metadata": {
    "id": "x5mX0ybp2SZ7"
   },
   "source": [
    "## Mini-batch gradient descent\n",
    "If you read the doc, you would notice that SGDClassifier's `fit()` function implements (single-instance) stochastic gradient descent to approximate the weight values. Let's try to implement the mini-batch gradient descent by using the classifier's `partial_fit()` method instead. \n",
    "\n",
    "- This will require repetitive (looped) calls of the function `partial_fit()`.\n",
    "- We will also need to get a subset of the data, a randomly selected subset per iteration. You will have to implement how to randomly select the mini-batch the model will train on."
   ]
  },
  {
   "cell_type": "markdown",
   "metadata": {
    "id": "DAGklJ_v2SZ7"
   },
   "source": [
    "Let's learn how to access elements of the array based on its indices. In the example below, `sample_array` contains values from 4 to 14, while `chosen_index` contains values 1, 3, 5. "
   ]
  },
  {
   "cell_type": "code",
   "execution_count": 45,
   "metadata": {
    "executionInfo": {
     "elapsed": 30,
     "status": "aborted",
     "timestamp": 1657871742223,
     "user": {
      "displayName": "Courtney Ngo",
      "userId": "01361140591205022195"
     },
     "user_tz": -480
    },
    "id": "WpWDmpcH2SZ9"
   },
   "outputs": [
    {
     "name": "stdout",
     "output_type": "stream",
     "text": [
      "Array: [ 4  5  6  7  8  9 10 11 12 13 14]\n",
      "Chosen indices: [1, 3, 5]\n"
     ]
    }
   ],
   "source": [
    "# Scratch cell. Don't use the variables from the other cells\n",
    "sample_array = np.arange(4, 15, 1)\n",
    "chosen_index = [1, 3, 5]\n",
    "\n",
    "print('Array:', sample_array)\n",
    "print('Chosen indices:', chosen_index)"
   ]
  },
  {
   "cell_type": "markdown",
   "metadata": {
    "id": "trPFQkNr2SaA"
   },
   "source": [
    "Let's select a subset of `sample_array` by filtering it through the indices in `chosen_index`. Thus, `subset_array` will contain values from the `sample_array` with index 1, 3, and 5, which is 5, 7, 9."
   ]
  },
  {
   "cell_type": "code",
   "execution_count": 46,
   "metadata": {
    "executionInfo": {
     "elapsed": 31,
     "status": "aborted",
     "timestamp": 1657871742224,
     "user": {
      "displayName": "Courtney Ngo",
      "userId": "01361140591205022195"
     },
     "user_tz": -480
    },
    "id": "hQIcCWRf2SaB"
   },
   "outputs": [
    {
     "name": "stdout",
     "output_type": "stream",
     "text": [
      "[5 7 9]\n"
     ]
    }
   ],
   "source": [
    "# Scratch cell\n",
    "subset_array = sample_array[chosen_index]\n",
    "print(subset_array)"
   ]
  },
  {
   "cell_type": "markdown",
   "metadata": {
    "id": "VUWLJKwJ2SaD"
   },
   "source": [
    "## Creating a `DataLoader` class\n",
    "\n",
    "A data loader is usually used to shuffle the dataset and to divide it into multiple batches according to a batch size. For example, suppose that you have 20 instances in your dataset and you set your batch size to 5. Thus, a `DataLoader` object will divide your dataset into 4 batches with 5 instances each. If you are training your model, `DataLoader` should shuffle the instances. During testing, instances are not usually shuffled.\n",
    "\n",
    "Open `data_loader.py` file. Some of the functions in the `DataLoader` class are not yet implemented. We will implement the missing parts of this class. We will use this in implementing our mini-batch gradient descent."
   ]
  },
  {
   "cell_type": "markdown",
   "metadata": {
    "id": "ovUcBbnn2SaE"
   },
   "source": [
    "Import the `DataLoader` class."
   ]
  },
  {
   "cell_type": "code",
   "execution_count": 47,
   "metadata": {
    "executionInfo": {
     "elapsed": 31,
     "status": "aborted",
     "timestamp": 1657871742224,
     "user": {
      "displayName": "Courtney Ngo",
      "userId": "01361140591205022195"
     },
     "user_tz": -480
    },
    "id": "faB5N14b2SaE"
   },
   "outputs": [],
   "source": [
    "from data_loader import DataLoader"
   ]
  },
  {
   "cell_type": "markdown",
   "metadata": {
    "id": "FaadoFAB2SaE"
   },
   "source": [
    "Let's create a dummy data, where `sample_X` contains the data and `sample_y` contains the corresponding ground truth labels. The variable `sample_X` has 20 instances with 5 features, where the value in each row corresponds to its index in the array."
   ]
  },
  {
   "cell_type": "code",
   "execution_count": 48,
   "metadata": {
    "executionInfo": {
     "elapsed": 31,
     "status": "aborted",
     "timestamp": 1657871742225,
     "user": {
      "displayName": "Courtney Ngo",
      "userId": "01361140591205022195"
     },
     "user_tz": -480
    },
    "id": "8jV96XP72SaF"
   },
   "outputs": [
    {
     "name": "stdout",
     "output_type": "stream",
     "text": [
      "X\n",
      " [[ 0  0  0  0  0]\n",
      " [ 1  1  1  1  1]\n",
      " [ 2  2  2  2  2]\n",
      " [ 3  3  3  3  3]\n",
      " [ 4  4  4  4  4]\n",
      " [ 5  5  5  5  5]\n",
      " [ 6  6  6  6  6]\n",
      " [ 7  7  7  7  7]\n",
      " [ 8  8  8  8  8]\n",
      " [ 9  9  9  9  9]\n",
      " [10 10 10 10 10]\n",
      " [11 11 11 11 11]\n",
      " [12 12 12 12 12]\n",
      " [13 13 13 13 13]\n",
      " [14 14 14 14 14]\n",
      " [15 15 15 15 15]\n",
      " [16 16 16 16 16]\n",
      " [17 17 17 17 17]\n",
      " [18 18 18 18 18]\n",
      " [19 19 19 19 19]]\n",
      "y\n",
      " [0 1 0 1 0 1 0 1 0 1 0 1 0 1 0 1 0 1 0 1]\n"
     ]
    }
   ],
   "source": [
    "sample_X = np.array([[i for _ in range(5)] for i in range(20)])\n",
    "sample_y = np.array([1 if i % 2 == 1 else 0 for i in range(20)])\n",
    "\n",
    "print('X\\n', sample_X)\n",
    "print('y\\n', sample_y)"
   ]
  },
  {
   "cell_type": "markdown",
   "metadata": {
    "id": "AA3sZg9i2SaF"
   },
   "source": [
    "Instantiate a `DataLoader` object. Pass `sample_X` as our `X`, `sample_y` as our `y`, and `5` as our `batch_size`."
   ]
  },
  {
   "cell_type": "code",
   "execution_count": 49,
   "metadata": {
    "executionInfo": {
     "elapsed": 31,
     "status": "aborted",
     "timestamp": 1657871742225,
     "user": {
      "displayName": "Courtney Ngo",
      "userId": "01361140591205022195"
     },
     "user_tz": -480
    },
    "id": "GvjJgDTk2SaF"
   },
   "outputs": [],
   "source": [
    "# Write your code here\n",
    "data_loader = DataLoader(X=sample_X, y=sample_y, batch_size=5)"
   ]
  },
  {
   "cell_type": "markdown",
   "metadata": {
    "id": "pZdRzs-l2SaG"
   },
   "source": [
    "Open `data_loader.py` file and complete the `shuffle()` function in the `DataLoader` class. This function shuffles the indices of the dataset. Inline comments should help you in completing the contents of the function. Upon implementing the function, execute the code below."
   ]
  },
  {
   "cell_type": "code",
   "execution_count": 50,
   "metadata": {
    "executionInfo": {
     "elapsed": 32,
     "status": "aborted",
     "timestamp": 1657871742226,
     "user": {
      "displayName": "Courtney Ngo",
      "userId": "01361140591205022195"
     },
     "user_tz": -480
    },
    "id": "prIurjAR2SaH"
   },
   "outputs": [
    {
     "name": "stdout",
     "output_type": "stream",
     "text": [
      "[ 3 16  6 10  2 14  4 17  7  1 13  0 19 18  9 15  8 12 11  5]\n"
     ]
    }
   ],
   "source": [
    "data_loader.shuffle()\n",
    "print(data_loader.indices)"
   ]
  },
  {
   "cell_type": "markdown",
   "metadata": {
    "id": "sjZyI0c02SaI"
   },
   "source": [
    "**Question #7:** What are the indices of the first batch after calling the `shuffle()` function?"
   ]
  },
  {
   "cell_type": "markdown",
   "metadata": {
    "id": "LNPX5h982SaJ"
   },
   "source": [
    "<!--crumb;qna;Q7-->"
   ]
  },
  {
   "cell_type": "code",
   "execution_count": 51,
   "metadata": {
    "id": "D1e2moh42SaJ"
   },
   "outputs": [
    {
     "name": "stdout",
     "output_type": "stream",
     "text": [
      "A:\n",
      "[ 3 16  6 10  2 14  4 17  7  1 13  0 19 18  9 15  8 12 11  5]\n"
     ]
    }
   ],
   "source": [
    "print(f'A:\\n{data_loader.indices}')"
   ]
  },
  {
   "cell_type": "markdown",
   "metadata": {
    "id": "lYYJA3lV2SaJ"
   },
   "source": [
    "Open `data_loader.py` file and complete the `get_batch()` function in the `DataLoader` class. This function returns `X` and `y` divided into different batches of size `batch_size`. Inline comments should help you in completing the contents of the function."
   ]
  },
  {
   "cell_type": "markdown",
   "metadata": {},
   "source": [
    "Get the batches by calling the function `get_batch()` and assign the return value to the variable `batches`."
   ]
  },
  {
   "cell_type": "code",
   "execution_count": 52,
   "metadata": {
    "executionInfo": {
     "elapsed": 31,
     "status": "aborted",
     "timestamp": 1657871742226,
     "user": {
      "displayName": "Courtney Ngo",
      "userId": "01361140591205022195"
     },
     "user_tz": -480
    },
    "id": "-Hw41ERA2SaK"
   },
   "outputs": [],
   "source": [
    "# Write your code here\n",
    "batches = data_loader.get_batch()"
   ]
  },
  {
   "cell_type": "markdown",
   "metadata": {
    "id": "j24EuRF82SaK"
   },
   "source": [
    "Let's print the first batch of instances. The first batch should contain 5 instances."
   ]
  },
  {
   "cell_type": "code",
   "execution_count": 53,
   "metadata": {
    "executionInfo": {
     "elapsed": 32,
     "status": "aborted",
     "timestamp": 1657871742227,
     "user": {
      "displayName": "Courtney Ngo",
      "userId": "01361140591205022195"
     },
     "user_tz": -480
    },
    "id": "AKPE9BVJ2SaK"
   },
   "outputs": [
    {
     "name": "stdout",
     "output_type": "stream",
     "text": [
      "First batch:\n",
      "X [[15 15 15 15 15]\n",
      " [ 7  7  7  7  7]\n",
      " [ 8  8  8  8  8]\n",
      " [10 10 10 10 10]\n",
      " [ 5  5  5  5  5]]\n",
      "y [1 1 0 0 1]\n"
     ]
    }
   ],
   "source": [
    "X_batch, y_batch = batches\n",
    "\n",
    "print('First batch:')\n",
    "print('X', X_batch[0])\n",
    "print('y', y_batch[0])"
   ]
  },
  {
   "cell_type": "markdown",
   "metadata": {
    "id": "xZQu-DJg2SaM"
   },
   "source": [
    "**Question #8:** What are the indices of the first batch after calling the `get_batch()` function?"
   ]
  },
  {
   "cell_type": "markdown",
   "metadata": {
    "id": "BefFuP7H2SaM"
   },
   "source": [
    "<!--crumb;qna;Q8-->"
   ]
  },
  {
   "cell_type": "code",
   "execution_count": 54,
   "metadata": {
    "id": "Bht4kVuW2SaN"
   },
   "outputs": [
    {
     "name": "stdout",
     "output_type": "stream",
     "text": [
      "A: [15  7  8 10  5]\n"
     ]
    }
   ],
   "source": [
    "print(f'A: {data_loader.indices[:data_loader.batch_size]}')"
   ]
  },
  {
   "cell_type": "markdown",
   "metadata": {
    "id": "WAh3_Smk2SaN"
   },
   "source": [
    "Training over all the batches (i.e., the whole dataset) constitute 1 epoch. In `scikit`, the hyperparameter `max_iters` actually corresponds to the number of epochs and not the number of iterations if you closely read the documentation."
   ]
  },
  {
   "cell_type": "markdown",
   "metadata": {
    "id": "PxgqRO-n2SaO"
   },
   "source": [
    "## Using the `DataLoader` class to train via mini-batch gradient descent\n",
    "\n",
    "Instantiate an `SGDClassifier` object. Set the following hyperparameters:\n",
    "- Loss function: 'log_loss'\n",
    "- Initial learning rate: 0.001\n",
    "- Learning rate: 'constant'\n",
    "- Random state: 5\n",
    "- Verbose: 0\n",
    "\n",
    "We will not set the hyperparameter `max_iter` since we will be training over the dataset manually using the `DataLoader` class."
   ]
  },
  {
   "cell_type": "code",
   "execution_count": 55,
   "metadata": {
    "executionInfo": {
     "elapsed": 31,
     "status": "aborted",
     "timestamp": 1657871742227,
     "user": {
      "displayName": "Courtney Ngo",
      "userId": "01361140591205022195"
     },
     "user_tz": -480
    },
    "id": "d8av0va42SaO"
   },
   "outputs": [],
   "source": [
    "# Write your code here\n",
    "model = SGDClassifier(loss='log_loss', eta0=0.001, learning_rate='constant', random_state=5, verbose=0)"
   ]
  },
  {
   "cell_type": "markdown",
   "metadata": {},
   "source": [
    "Set the maximum number of epochs to 200."
   ]
  },
  {
   "cell_type": "code",
   "execution_count": 56,
   "metadata": {},
   "outputs": [],
   "source": [
    "max_epochs = 200"
   ]
  },
  {
   "cell_type": "markdown",
   "metadata": {
    "id": "eYAVAIaJ2SaO"
   },
   "source": [
    "Instantiate a `DataLoader` object. Pass the `X` and `y` of the train set of the Cat Dataset and `10` as our `batch_size`."
   ]
  },
  {
   "cell_type": "code",
   "execution_count": 57,
   "metadata": {
    "executionInfo": {
     "elapsed": 31,
     "status": "aborted",
     "timestamp": 1657871742227,
     "user": {
      "displayName": "Courtney Ngo",
      "userId": "01361140591205022195"
     },
     "user_tz": -480
    },
    "id": "2RRJSCmL2SaP"
   },
   "outputs": [],
   "source": [
    "# Write your code here\n",
    "data_loader = DataLoader(X=X_train, y=y_train, batch_size=10)"
   ]
  },
  {
   "cell_type": "markdown",
   "metadata": {
    "id": "yiboolJp2SaP"
   },
   "source": [
    "Train your model. Complete the code below."
   ]
  },
  {
   "cell_type": "code",
   "execution_count": 58,
   "metadata": {
    "executionInfo": {
     "elapsed": 31,
     "status": "aborted",
     "timestamp": 1657871742228,
     "user": {
      "displayName": "Courtney Ngo",
      "userId": "01361140591205022195"
     },
     "user_tz": -480
    },
    "id": "a9OXk8hT2SaQ"
   },
   "outputs": [
    {
     "name": "stdout",
     "output_type": "stream",
     "text": [
      "Epoch: 1 \tLoss: 0.8290020372266268\n",
      "Epoch: 2 \tLoss: 0.7543625373862177\n",
      "Epoch: 3 \tLoss: 0.6561664402485681\n",
      "Epoch: 4 \tLoss: 0.6005045559041569\n",
      "Epoch: 5 \tLoss: 0.5849907465924167\n",
      "Epoch: 6 \tLoss: 0.5037598017854514\n",
      "Epoch: 7 \tLoss: 0.46863742718205936\n",
      "Epoch: 8 \tLoss: 0.45653948087315466\n",
      "Epoch: 9 \tLoss: 0.5006029164071335\n",
      "Epoch: 10 \tLoss: 0.4425580636965763\n",
      "Epoch: 11 \tLoss: 0.4552193956728945\n",
      "Epoch: 12 \tLoss: 0.36867095411034656\n",
      "Epoch: 13 \tLoss: 0.4033597129078319\n",
      "Epoch: 14 \tLoss: 0.3212939345160661\n",
      "Epoch: 15 \tLoss: 0.3314364550639655\n",
      "Epoch: 16 \tLoss: 0.34161974567350006\n",
      "Epoch: 17 \tLoss: 0.35008842345973684\n",
      "Epoch: 18 \tLoss: 0.32118416091356145\n",
      "Epoch: 19 \tLoss: 0.322134647790459\n",
      "Epoch: 20 \tLoss: 0.2986452102066026\n",
      "Epoch: 21 \tLoss: 0.26370362651143264\n",
      "Epoch: 22 \tLoss: 0.2493654612348301\n",
      "Epoch: 23 \tLoss: 0.28031637757324107\n",
      "Epoch: 24 \tLoss: 0.25388911717524043\n",
      "Epoch: 25 \tLoss: 0.26979227217044466\n",
      "Epoch: 26 \tLoss: 0.24255177264151487\n",
      "Epoch: 27 \tLoss: 0.23498676997783896\n",
      "Epoch: 28 \tLoss: 0.2279648387509122\n",
      "Epoch: 29 \tLoss: 0.2140078430370209\n",
      "Epoch: 30 \tLoss: 0.20631434568889434\n",
      "Epoch: 31 \tLoss: 0.20174448203165113\n",
      "Epoch: 32 \tLoss: 0.20310278108671215\n",
      "Epoch: 33 \tLoss: 0.20267511516184275\n",
      "Epoch: 34 \tLoss: 0.1989585832232329\n",
      "Epoch: 35 \tLoss: 0.17689427168553534\n",
      "Epoch: 36 \tLoss: 0.1738237028156893\n",
      "Epoch: 37 \tLoss: 0.18936707679883366\n",
      "Epoch: 38 \tLoss: 0.16742549338931537\n",
      "Epoch: 39 \tLoss: 0.18742693678099553\n",
      "Epoch: 40 \tLoss: 0.16472928084508442\n",
      "Epoch: 41 \tLoss: 0.16742089668157303\n",
      "Epoch: 42 \tLoss: 0.16363226637818656\n",
      "Epoch: 43 \tLoss: 0.17441169153961655\n",
      "Epoch: 44 \tLoss: 0.15751021290543749\n",
      "Epoch: 45 \tLoss: 0.16205039738378718\n",
      "Epoch: 46 \tLoss: 0.13988239679470243\n",
      "Epoch: 47 \tLoss: 0.15497791558616633\n",
      "Epoch: 48 \tLoss: 0.15019907759120027\n",
      "Epoch: 49 \tLoss: 0.14888399991239554\n",
      "Epoch: 50 \tLoss: 0.13888791261082206\n",
      "Epoch: 51 \tLoss: 0.13277700740494142\n",
      "Epoch: 52 \tLoss: 0.1297332215213372\n",
      "Epoch: 53 \tLoss: 0.13243204285605717\n",
      "Epoch: 54 \tLoss: 0.13781345455880953\n",
      "Epoch: 55 \tLoss: 0.12454544505976228\n",
      "Epoch: 56 \tLoss: 0.13798330231699318\n",
      "Epoch: 57 \tLoss: 0.1332305146271222\n",
      "Epoch: 58 \tLoss: 0.11745219029295746\n",
      "Epoch: 59 \tLoss: 0.11477119246185406\n",
      "Epoch: 60 \tLoss: 0.12404833487425794\n",
      "Epoch: 61 \tLoss: 0.11728142695375887\n",
      "Epoch: 62 \tLoss: 0.1211295407388139\n",
      "Epoch: 63 \tLoss: 0.11819958299191732\n",
      "Epoch: 64 \tLoss: 0.11838170064115283\n"
     ]
    }
   ],
   "source": [
    "from sklearn.metrics import log_loss\n",
    "\n",
    "e = 0\n",
    "is_converged = False\n",
    "previous_loss = 0\n",
    "labels = np.unique(y_train)\n",
    "\n",
    "# For each epoch\n",
    "while e < max_epochs and is_converged is not True:\n",
    "    \n",
    "    loss = 0\n",
    "    \n",
    "    # TODO: Get the batch for this epoch.\n",
    "    X_batch, y_batch = data_loader.get_batch()\n",
    "    \n",
    "    # For each batch\n",
    "    for X, y in zip(X_batch, y_batch):\n",
    "        \n",
    "        # TODO: Partial fit the model to the subset you selected\n",
    "        # In partial fit, you have to pass a classes parameters, use labels as the value\n",
    "        # pass\n",
    "        model.partial_fit(X= X, y= y, classes= labels)\n",
    "        \n",
    "        # Compute the loss\n",
    "        y_pred = model.predict_proba(X_train)\n",
    "        loss += log_loss(y_train, y_pred)\n",
    "        \n",
    "    # Display the average loss per epoch\n",
    "    print('Epoch:', e + 1, '\\tLoss:', (loss / len(X_batch)))\n",
    "    \n",
    "    if abs(previous_loss - loss) < 0.005:\n",
    "        is_converged = True\n",
    "    else:\n",
    "        previous_loss = loss\n",
    "        e += 1"
   ]
  },
  {
   "cell_type": "markdown",
   "metadata": {
    "id": "0TvJPlTn2SaR"
   },
   "source": [
    "**Question #9:** How many epochs did the model train before convergence?"
   ]
  },
  {
   "cell_type": "markdown",
   "metadata": {
    "id": "6IYVqeEf2SaS"
   },
   "source": [
    "<!--crumb;qna;Q9-->"
   ]
  },
  {
   "cell_type": "code",
   "execution_count": 59,
   "metadata": {
    "id": "NIFItnSj2SaS"
   },
   "outputs": [
    {
     "name": "stdout",
     "output_type": "stream",
     "text": [
      "A: 64 epochs\n"
     ]
    }
   ],
   "source": [
    "print(f'A: {e+1} epochs') "
   ]
  },
  {
   "cell_type": "markdown",
   "metadata": {
    "id": "AsxeVGGW2SaS"
   },
   "source": [
    "**Question #10:** What is the average loss of the model in epoch 5? Limit to 4 decimal places."
   ]
  },
  {
   "cell_type": "markdown",
   "metadata": {
    "id": "O-ABEGnq2SaT"
   },
   "source": [
    "<!--crumb;qna;Q10-->"
   ]
  },
  {
   "cell_type": "code",
   "execution_count": 60,
   "metadata": {
    "id": "ybgbwMbG2SaV"
   },
   "outputs": [
    {
     "name": "stdout",
     "output_type": "stream",
     "text": [
      "A: Loss was 0.5850\n"
     ]
    }
   ],
   "source": [
    "print(f'A: Loss was {0.5849907465924167:.4f}') "
   ]
  },
  {
   "cell_type": "markdown",
   "metadata": {
    "id": "oe0gyy8r2SaW"
   },
   "source": [
    "## Try our trained model on the test data\n",
    "\n",
    "Now, let's get the prediction results on the test data to see if our model can handle unseen cat images. Store the predicted labels in the variable `predictions`."
   ]
  },
  {
   "cell_type": "code",
   "execution_count": 61,
   "metadata": {
    "executionInfo": {
     "elapsed": 31,
     "status": "aborted",
     "timestamp": 1657871742228,
     "user": {
      "displayName": "Courtney Ngo",
      "userId": "01361140591205022195"
     },
     "user_tz": -480
    },
    "id": "vjm8oafQ2SaW"
   },
   "outputs": [],
   "source": [
    "# Write your code here\n",
    "predictions = model.predict(X_test)"
   ]
  },
  {
   "cell_type": "markdown",
   "metadata": {},
   "source": [
    "Print the predictions."
   ]
  },
  {
   "cell_type": "code",
   "execution_count": 62,
   "metadata": {},
   "outputs": [
    {
     "name": "stdout",
     "output_type": "stream",
     "text": [
      "[1 1 1 1 1 1 0 1 1 1 0 1 1 1 0 1 0 1 0 0 1 0 0 1 1 1 1 0 0 1 0 1 1 1 1 0 0\n",
      " 1 1 0 1 1 1 0 1 1 0 1 1 0]\n"
     ]
    }
   ],
   "source": [
    "print(predictions)"
   ]
  },
  {
   "cell_type": "markdown",
   "metadata": {
    "id": "CG5W7WXE2SaX"
   },
   "source": [
    "Compare the ground truth labels with the predicted labels. Store the total number of correct predictions in the variable `num_correct`."
   ]
  },
  {
   "cell_type": "code",
   "execution_count": 63,
   "metadata": {
    "executionInfo": {
     "elapsed": 31,
     "status": "aborted",
     "timestamp": 1657871742229,
     "user": {
      "displayName": "Courtney Ngo",
      "userId": "01361140591205022195"
     },
     "user_tz": -480
    },
    "id": "P6eI4jo92SaY"
   },
   "outputs": [],
   "source": [
    "# Write your code here\n",
    "num_correct = Series(predictions == y_test).value_counts()[True]"
   ]
  },
  {
   "cell_type": "markdown",
   "metadata": {},
   "source": [
    "Print the number of correct predictions."
   ]
  },
  {
   "cell_type": "code",
   "execution_count": 64,
   "metadata": {},
   "outputs": [
    {
     "name": "stdout",
     "output_type": "stream",
     "text": [
      "36\n"
     ]
    }
   ],
   "source": [
    "print(num_correct)"
   ]
  },
  {
   "cell_type": "markdown",
   "metadata": {
    "id": "hEK6epEW2Sac"
   },
   "source": [
    "Compute for the accuracy. Store the accuracy in the variable `accuracy`."
   ]
  },
  {
   "cell_type": "code",
   "execution_count": 65,
   "metadata": {
    "executionInfo": {
     "elapsed": 31,
     "status": "aborted",
     "timestamp": 1657871742229,
     "user": {
      "displayName": "Courtney Ngo",
      "userId": "01361140591205022195"
     },
     "user_tz": -480
    },
    "id": "rENLRT_J2Sad"
   },
   "outputs": [],
   "source": [
    "# Write your code here\n",
    "accuracy = num_correct / len(y_test)"
   ]
  },
  {
   "cell_type": "markdown",
   "metadata": {},
   "source": [
    "Print the accuracy."
   ]
  },
  {
   "cell_type": "code",
   "execution_count": 66,
   "metadata": {},
   "outputs": [
    {
     "name": "stdout",
     "output_type": "stream",
     "text": [
      "0.72\n"
     ]
    }
   ],
   "source": [
    "print(accuracy)"
   ]
  },
  {
   "cell_type": "markdown",
   "metadata": {
    "id": "2DN3zBgs2Sae"
   },
   "source": [
    "**Question #11:** What is the accuracy of the model when evaluated on the test set? Express your answer in a floating point number from 0 to 1. Limit to 4 decimal places."
   ]
  },
  {
   "cell_type": "markdown",
   "metadata": {
    "id": "Q3DW6k0Q2Saf"
   },
   "source": [
    "<!--crumb;qna;Q11-->"
   ]
  },
  {
   "cell_type": "code",
   "execution_count": 67,
   "metadata": {
    "id": "1BVkQAba2Saf"
   },
   "outputs": [
    {
     "name": "stdout",
     "output_type": "stream",
     "text": [
      "A:\n",
      "Accuracy: 0.7200 -- 36/50\n",
      "Score: 0.7200\n"
     ]
    }
   ],
   "source": [
    "print('A:') \n",
    "print(f'Accuracy: {accuracy:.4f} -- {num_correct}/{len(y_test)}') \n",
    "print(f'Score: {model.score(X_test, y_test):.4f}') "
   ]
  },
  {
   "cell_type": "markdown",
   "metadata": {
    "id": "f9fpFaYn2Sag"
   },
   "source": [
    "**Sanity Check:** You will not see much difference in the performance (unless we try a bigger dataset). But mini-batch gradient descent is expected to reach the minimum error (converge) quicker than stochastic gradient descent."
   ]
  },
  {
   "cell_type": "markdown",
   "metadata": {
    "id": "G0A1FPfs2Sag"
   },
   "source": [
    "Store the weights of the model in the variable `weights`. Then, display the first 5 weights of the model."
   ]
  },
  {
   "cell_type": "code",
   "execution_count": 68,
   "metadata": {
    "executionInfo": {
     "elapsed": 31,
     "status": "aborted",
     "timestamp": 1657871742229,
     "user": {
      "displayName": "Courtney Ngo",
      "userId": "01361140591205022195"
     },
     "user_tz": -480
    },
    "id": "odXnv_Fx2Sak"
   },
   "outputs": [
    {
     "name": "stdout",
     "output_type": "stream",
     "text": [
      "[ 0.01149282 -0.03218335 -0.0152248  -0.01534241 -0.06208912]\n"
     ]
    }
   ],
   "source": [
    "# Write your code here\n",
    "weights = model.coef_\n",
    "print(weights[0][:5])"
   ]
  },
  {
   "cell_type": "markdown",
   "metadata": {
    "id": "-CWesbXt2Sal"
   },
   "source": [
    "**Question #12:** How many weights does the model have?"
   ]
  },
  {
   "cell_type": "markdown",
   "metadata": {
    "id": "6lbX4Ams2Sal"
   },
   "source": [
    "<!--crumb;qna;Q12-->"
   ]
  },
  {
   "cell_type": "code",
   "execution_count": 69,
   "metadata": {
    "id": "tAs5IxhQ2San"
   },
   "outputs": [
    {
     "name": "stdout",
     "output_type": "stream",
     "text": [
      "A: 12288 weights\n"
     ]
    }
   ],
   "source": [
    "print(f'A: {weights.shape[1]} weights')"
   ]
  },
  {
   "cell_type": "markdown",
   "metadata": {
    "id": "EGIal5pZ2Sao"
   },
   "source": [
    "**Question #13:** What is the value of the first weight of the model? Limit to 4 decimal places."
   ]
  },
  {
   "cell_type": "markdown",
   "metadata": {
    "id": "yp9z2HoB2Sao"
   },
   "source": [
    "<!--crumb;qna;Q13-->"
   ]
  },
  {
   "cell_type": "code",
   "execution_count": 70,
   "metadata": {
    "id": "zfIpkdz42Sap"
   },
   "outputs": [
    {
     "name": "stdout",
     "output_type": "stream",
     "text": [
      "A: 0.0115\n"
     ]
    }
   ],
   "source": [
    "print(f'A: {weights[0][0]:.4f}')"
   ]
  },
  {
   "cell_type": "markdown",
   "metadata": {
    "id": "4gJRh1Z62Sas"
   },
   "source": [
    "**Question #14:** With respect to the input data, what does each weight represent?"
   ]
  },
  {
   "cell_type": "markdown",
   "metadata": {
    "id": "rqAp4ryX2Sau"
   },
   "source": [
    "<!--crumb;qna;Q14-->"
   ]
  },
  {
   "cell_type": "markdown",
   "metadata": {
    "id": "7z5Bsv9i2Sau"
   },
   "source": [
    "A: The weights represent each column of `X_train` that was generated during reshaping the of `test_images`. Recall that we reshaped using reshape(original_rows, -1), hence the columns automatically shaped themselves to an high number of columns."
   ]
  },
  {
   "cell_type": "markdown",
   "metadata": {
    "id": "toWqPntu2Sau"
   },
   "source": [
    "Print out the probabilities of each instance in the test set being `y=0` and `y=1`."
   ]
  },
  {
   "cell_type": "code",
   "execution_count": 71,
   "metadata": {
    "executionInfo": {
     "elapsed": 31,
     "status": "aborted",
     "timestamp": 1657871742230,
     "user": {
      "displayName": "Courtney Ngo",
      "userId": "01361140591205022195"
     },
     "user_tz": -480
    },
    "id": "QY3Q9SBC2Sav"
   },
   "outputs": [
    {
     "data": {
      "text/html": [
       "<div>\n",
       "<style scoped>\n",
       "    .dataframe tbody tr th:only-of-type {\n",
       "        vertical-align: middle;\n",
       "    }\n",
       "\n",
       "    .dataframe tbody tr th {\n",
       "        vertical-align: top;\n",
       "    }\n",
       "\n",
       "    .dataframe thead th {\n",
       "        text-align: right;\n",
       "    }\n",
       "</style>\n",
       "<table border=\"1\" class=\"dataframe\">\n",
       "  <thead>\n",
       "    <tr style=\"text-align: right;\">\n",
       "      <th></th>\n",
       "      <th>0 probability</th>\n",
       "      <th>1 probability</th>\n",
       "    </tr>\n",
       "  </thead>\n",
       "  <tbody>\n",
       "    <tr>\n",
       "      <th>0</th>\n",
       "      <td>0.014730</td>\n",
       "      <td>0.985270</td>\n",
       "    </tr>\n",
       "    <tr>\n",
       "      <th>1</th>\n",
       "      <td>0.027765</td>\n",
       "      <td>0.972235</td>\n",
       "    </tr>\n",
       "    <tr>\n",
       "      <th>2</th>\n",
       "      <td>0.022430</td>\n",
       "      <td>0.977570</td>\n",
       "    </tr>\n",
       "    <tr>\n",
       "      <th>3</th>\n",
       "      <td>0.015853</td>\n",
       "      <td>0.984147</td>\n",
       "    </tr>\n",
       "    <tr>\n",
       "      <th>4</th>\n",
       "      <td>0.074257</td>\n",
       "      <td>0.925743</td>\n",
       "    </tr>\n",
       "    <tr>\n",
       "      <th>5</th>\n",
       "      <td>0.302163</td>\n",
       "      <td>0.697837</td>\n",
       "    </tr>\n",
       "    <tr>\n",
       "      <th>6</th>\n",
       "      <td>0.925257</td>\n",
       "      <td>0.074743</td>\n",
       "    </tr>\n",
       "    <tr>\n",
       "      <th>7</th>\n",
       "      <td>0.050019</td>\n",
       "      <td>0.949981</td>\n",
       "    </tr>\n",
       "    <tr>\n",
       "      <th>8</th>\n",
       "      <td>0.036196</td>\n",
       "      <td>0.963804</td>\n",
       "    </tr>\n",
       "    <tr>\n",
       "      <th>9</th>\n",
       "      <td>0.129834</td>\n",
       "      <td>0.870166</td>\n",
       "    </tr>\n",
       "    <tr>\n",
       "      <th>10</th>\n",
       "      <td>0.708817</td>\n",
       "      <td>0.291183</td>\n",
       "    </tr>\n",
       "    <tr>\n",
       "      <th>11</th>\n",
       "      <td>0.231714</td>\n",
       "      <td>0.768286</td>\n",
       "    </tr>\n",
       "    <tr>\n",
       "      <th>12</th>\n",
       "      <td>0.163603</td>\n",
       "      <td>0.836397</td>\n",
       "    </tr>\n",
       "    <tr>\n",
       "      <th>13</th>\n",
       "      <td>0.037886</td>\n",
       "      <td>0.962114</td>\n",
       "    </tr>\n",
       "    <tr>\n",
       "      <th>14</th>\n",
       "      <td>0.992380</td>\n",
       "      <td>0.007620</td>\n",
       "    </tr>\n",
       "    <tr>\n",
       "      <th>15</th>\n",
       "      <td>0.028341</td>\n",
       "      <td>0.971659</td>\n",
       "    </tr>\n",
       "    <tr>\n",
       "      <th>16</th>\n",
       "      <td>0.974532</td>\n",
       "      <td>0.025468</td>\n",
       "    </tr>\n",
       "    <tr>\n",
       "      <th>17</th>\n",
       "      <td>0.028002</td>\n",
       "      <td>0.971998</td>\n",
       "    </tr>\n",
       "    <tr>\n",
       "      <th>18</th>\n",
       "      <td>0.704926</td>\n",
       "      <td>0.295074</td>\n",
       "    </tr>\n",
       "    <tr>\n",
       "      <th>19</th>\n",
       "      <td>0.957059</td>\n",
       "      <td>0.042941</td>\n",
       "    </tr>\n",
       "    <tr>\n",
       "      <th>20</th>\n",
       "      <td>0.013869</td>\n",
       "      <td>0.986131</td>\n",
       "    </tr>\n",
       "    <tr>\n",
       "      <th>21</th>\n",
       "      <td>0.791128</td>\n",
       "      <td>0.208872</td>\n",
       "    </tr>\n",
       "    <tr>\n",
       "      <th>22</th>\n",
       "      <td>0.983231</td>\n",
       "      <td>0.016769</td>\n",
       "    </tr>\n",
       "    <tr>\n",
       "      <th>23</th>\n",
       "      <td>0.060019</td>\n",
       "      <td>0.939981</td>\n",
       "    </tr>\n",
       "    <tr>\n",
       "      <th>24</th>\n",
       "      <td>0.273918</td>\n",
       "      <td>0.726082</td>\n",
       "    </tr>\n",
       "    <tr>\n",
       "      <th>25</th>\n",
       "      <td>0.217980</td>\n",
       "      <td>0.782020</td>\n",
       "    </tr>\n",
       "    <tr>\n",
       "      <th>26</th>\n",
       "      <td>0.063445</td>\n",
       "      <td>0.936555</td>\n",
       "    </tr>\n",
       "    <tr>\n",
       "      <th>27</th>\n",
       "      <td>0.985655</td>\n",
       "      <td>0.014345</td>\n",
       "    </tr>\n",
       "    <tr>\n",
       "      <th>28</th>\n",
       "      <td>0.966505</td>\n",
       "      <td>0.033495</td>\n",
       "    </tr>\n",
       "    <tr>\n",
       "      <th>29</th>\n",
       "      <td>0.000266</td>\n",
       "      <td>0.999734</td>\n",
       "    </tr>\n",
       "    <tr>\n",
       "      <th>30</th>\n",
       "      <td>0.823417</td>\n",
       "      <td>0.176583</td>\n",
       "    </tr>\n",
       "    <tr>\n",
       "      <th>31</th>\n",
       "      <td>0.099253</td>\n",
       "      <td>0.900747</td>\n",
       "    </tr>\n",
       "    <tr>\n",
       "      <th>32</th>\n",
       "      <td>0.170236</td>\n",
       "      <td>0.829764</td>\n",
       "    </tr>\n",
       "    <tr>\n",
       "      <th>33</th>\n",
       "      <td>0.251197</td>\n",
       "      <td>0.748803</td>\n",
       "    </tr>\n",
       "    <tr>\n",
       "      <th>34</th>\n",
       "      <td>0.202850</td>\n",
       "      <td>0.797150</td>\n",
       "    </tr>\n",
       "    <tr>\n",
       "      <th>35</th>\n",
       "      <td>0.939728</td>\n",
       "      <td>0.060272</td>\n",
       "    </tr>\n",
       "    <tr>\n",
       "      <th>36</th>\n",
       "      <td>0.887990</td>\n",
       "      <td>0.112010</td>\n",
       "    </tr>\n",
       "    <tr>\n",
       "      <th>37</th>\n",
       "      <td>0.079581</td>\n",
       "      <td>0.920419</td>\n",
       "    </tr>\n",
       "    <tr>\n",
       "      <th>38</th>\n",
       "      <td>0.492881</td>\n",
       "      <td>0.507119</td>\n",
       "    </tr>\n",
       "    <tr>\n",
       "      <th>39</th>\n",
       "      <td>0.924763</td>\n",
       "      <td>0.075237</td>\n",
       "    </tr>\n",
       "    <tr>\n",
       "      <th>40</th>\n",
       "      <td>0.144056</td>\n",
       "      <td>0.855944</td>\n",
       "    </tr>\n",
       "    <tr>\n",
       "      <th>41</th>\n",
       "      <td>0.470397</td>\n",
       "      <td>0.529603</td>\n",
       "    </tr>\n",
       "    <tr>\n",
       "      <th>42</th>\n",
       "      <td>0.123073</td>\n",
       "      <td>0.876927</td>\n",
       "    </tr>\n",
       "    <tr>\n",
       "      <th>43</th>\n",
       "      <td>0.978691</td>\n",
       "      <td>0.021309</td>\n",
       "    </tr>\n",
       "    <tr>\n",
       "      <th>44</th>\n",
       "      <td>0.020016</td>\n",
       "      <td>0.979984</td>\n",
       "    </tr>\n",
       "    <tr>\n",
       "      <th>45</th>\n",
       "      <td>0.242146</td>\n",
       "      <td>0.757854</td>\n",
       "    </tr>\n",
       "    <tr>\n",
       "      <th>46</th>\n",
       "      <td>0.639429</td>\n",
       "      <td>0.360571</td>\n",
       "    </tr>\n",
       "    <tr>\n",
       "      <th>47</th>\n",
       "      <td>0.003521</td>\n",
       "      <td>0.996479</td>\n",
       "    </tr>\n",
       "    <tr>\n",
       "      <th>48</th>\n",
       "      <td>0.127780</td>\n",
       "      <td>0.872220</td>\n",
       "    </tr>\n",
       "    <tr>\n",
       "      <th>49</th>\n",
       "      <td>0.813077</td>\n",
       "      <td>0.186923</td>\n",
       "    </tr>\n",
       "  </tbody>\n",
       "</table>\n",
       "</div>"
      ],
      "text/plain": [
       "    0 probability  1 probability\n",
       "0        0.014730       0.985270\n",
       "1        0.027765       0.972235\n",
       "2        0.022430       0.977570\n",
       "3        0.015853       0.984147\n",
       "4        0.074257       0.925743\n",
       "5        0.302163       0.697837\n",
       "6        0.925257       0.074743\n",
       "7        0.050019       0.949981\n",
       "8        0.036196       0.963804\n",
       "9        0.129834       0.870166\n",
       "10       0.708817       0.291183\n",
       "11       0.231714       0.768286\n",
       "12       0.163603       0.836397\n",
       "13       0.037886       0.962114\n",
       "14       0.992380       0.007620\n",
       "15       0.028341       0.971659\n",
       "16       0.974532       0.025468\n",
       "17       0.028002       0.971998\n",
       "18       0.704926       0.295074\n",
       "19       0.957059       0.042941\n",
       "20       0.013869       0.986131\n",
       "21       0.791128       0.208872\n",
       "22       0.983231       0.016769\n",
       "23       0.060019       0.939981\n",
       "24       0.273918       0.726082\n",
       "25       0.217980       0.782020\n",
       "26       0.063445       0.936555\n",
       "27       0.985655       0.014345\n",
       "28       0.966505       0.033495\n",
       "29       0.000266       0.999734\n",
       "30       0.823417       0.176583\n",
       "31       0.099253       0.900747\n",
       "32       0.170236       0.829764\n",
       "33       0.251197       0.748803\n",
       "34       0.202850       0.797150\n",
       "35       0.939728       0.060272\n",
       "36       0.887990       0.112010\n",
       "37       0.079581       0.920419\n",
       "38       0.492881       0.507119\n",
       "39       0.924763       0.075237\n",
       "40       0.144056       0.855944\n",
       "41       0.470397       0.529603\n",
       "42       0.123073       0.876927\n",
       "43       0.978691       0.021309\n",
       "44       0.020016       0.979984\n",
       "45       0.242146       0.757854\n",
       "46       0.639429       0.360571\n",
       "47       0.003521       0.996479\n",
       "48       0.127780       0.872220\n",
       "49       0.813077       0.186923"
      ]
     },
     "execution_count": 71,
     "metadata": {},
     "output_type": "execute_result"
    }
   ],
   "source": [
    "# Write your code here\n",
    "from pandas import DataFrame \n",
    "probabilites = DataFrame(model.predict_proba(X_test), columns=['0 probability', '1 probability'])\n",
    "probabilites"
   ]
  },
  {
   "cell_type": "markdown",
   "metadata": {},
   "source": [
    "**Question #15:** Given the probabilities, what is the class of the 2nd instance in the test set?"
   ]
  },
  {
   "cell_type": "markdown",
   "metadata": {},
   "source": [
    "<!--crumb;qna;Q15-->"
   ]
  },
  {
   "cell_type": "code",
   "execution_count": 72,
   "metadata": {},
   "outputs": [
    {
     "name": "stdout",
     "output_type": "stream",
     "text": [
      "0 probability    0.027765\n",
      "1 probability    0.972235\n",
      "Name: 1, dtype: float64\n",
      "A:\n",
      "It's 1 with 0.9722 certainty\n"
     ]
    }
   ],
   "source": [
    "print(probabilites.loc[1])\n",
    "\n",
    "print('A:')\n",
    "\n",
    "chance0 = probabilites.loc[1]['0 probability']\n",
    "chance1 = probabilites.loc[1]['1 probability']\n",
    "if(chance0 > chance1):\n",
    "    print(f\"It's 0 with {chance0:.4f} certainty\")\n",
    "else:\n",
    "    print(f\"It's 1 with {chance1:.4f} certainty\")"
   ]
  },
  {
   "cell_type": "markdown",
   "metadata": {
    "id": "1zNx6JTq2Sav"
   },
   "source": [
    "## Testing with pictures\n",
    "Let's see the actual image next to the ground truth and our model's predictions"
   ]
  },
  {
   "cell_type": "code",
   "execution_count": 74,
   "metadata": {
    "executionInfo": {
     "elapsed": 31,
     "status": "aborted",
     "timestamp": 1657871742230,
     "user": {
      "displayName": "Courtney Ngo",
      "userId": "01361140591205022195"
     },
     "user_tz": -480
    },
    "id": "IYmOhbrr2Sav",
    "scrolled": true
   },
   "outputs": [
    {
     "data": {
      "text/plain": [
       "Text(0.5, 1.0, 'y = cat | prediction = cat')"
      ]
     },
     "execution_count": 74,
     "metadata": {},
     "output_type": "execute_result"
    },
    {
     "data": {
      "image/png": "[encoded data removed]",
      "text/plain": [
       "<Figure size 640x480 with 1 Axes>"
      ]
     },
     "metadata": {},
     "output_type": "display_data"
    }
   ],
   "source": [
    "classes = ['not cat', 'cat']\n",
    "random_index = np.squeeze(np.random.choice(len(y_test), 1))\n",
    "\n",
    "prediction = model.predict([X_test[random_index]])\n",
    "plt.imshow(test_images[int(random_index)])\n",
    "plt.axis('off')\n",
    "plt.title('y = ' + classes[(np.squeeze(y_test[random_index]))] + ' | prediction = ' + classes[np.squeeze(prediction)])"
   ]
  },
  {
   "cell_type": "markdown",
   "metadata": {
    "id": "F2xJFwKm2Sav"
   },
   "source": [
    "# Conclusion\n",
    "\n",
    "Contrary to what its name implies, logistic regression is not a regression model. It is used for classification.\n",
    "\n",
    "It is named like that because logistic regression is just like linear regression up until the activation function (sigmoid/logistic). But, instead of giving a raw score, the scores are plugged into a logistic/sigmoid function which returns the probability of whether it's y==1. Sigmoid/logistic is the first activiation function we have encountered, but there are various others which we will encounter soon in neural networks.\n",
    "\n",
    "As you should've seen in an earlier cell, the probabilities of the model will always be given out in 2s for binomial - one for each of your classes. They both should total to 1. In the next notebook, we will tackle multinomial logistic regression where there are more than 2 classes. You will see the same format for your probabilities, but now the shape will be `(num_test, num_classes)`.\n",
    "\n",
    "As we are already classifying, we normally won't present our hypothesis model as the line that tries to capture our model. Instead, we should think about boundaries between the two classes.\n"
   ]
  },
  {
   "cell_type": "markdown",
   "metadata": {
    "id": "4EkNkqDx2Saw"
   },
   "source": [
    "### <center>fin</center>"
   ]
  },
  {
   "cell_type": "markdown",
   "metadata": {
    "id": "wQOM0z0L2Saw"
   },
   "source": [
    "\n",
    "<!-- DO NOT MODIFY OR DELETE THIS -->\n",
    "<sup>made/compiled by daniel stanley tan & courtney anne ngo 🐰 & thomas james tiam-lee</sup> <br>\n",
    "<sup>for comments, corrections, suggestions, please email:</sup><sup> danieltan07@gmail.com & courtneyngo@gmail.com & thomasjamestiamlee@gmail.com</sup><br>\n",
    "<sup>please cc your instructor, too</sup>\n",
    "<!-- DO NOT MODIFY OR DELETE THIS -->"
   ]
  }
 ],
 "metadata": {
  "colab": {
   "name": "03b - Logistic Regression - Answer.ipynb",
   "provenance": []
  },
  "kernelspec": {
   "display_name": "Python 3 (ipykernel)",
   "language": "python",
   "name": "python3"
  },
  "language_info": {
   "codemirror_mode": {
    "name": "ipython",
    "version": 3
   },
   "file_extension": ".py",
   "mimetype": "text/x-python",
   "name": "python",
   "nbconvert_exporter": "python",
   "pygments_lexer": "ipython3",
   "version": "3.10.10"
  }
 },
 "nbformat": 4,
 "nbformat_minor": 4
}
