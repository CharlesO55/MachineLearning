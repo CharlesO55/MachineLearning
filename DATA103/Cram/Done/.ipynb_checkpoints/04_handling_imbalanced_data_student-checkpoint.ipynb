{
 "cells": [
  {
   "cell_type": "markdown",
   "id": "e9b6de2a",
   "metadata": {},
   "source": [
    "Imbalanced data happens when you only have a small sample of positive labels/class as compared to your negative labels/class. This type of problem can affect your models developed since there is a chance that it will only learn to identify negative labels. This type of problem is usually present in datasets like fraud, transportation failure, disease detection and more. In this notebook, we will explore different ways to handle this problem."
   ]
  },
  {
   "cell_type": "markdown",
   "id": "fea5112c",
   "metadata": {},
   "source": [
    "## 1. Undersampling and Oversampling"
   ]
  },
  {
   "cell_type": "markdown",
   "id": "c1702a41",
   "metadata": {},
   "source": [
    "<img src=\"https://miro.medium.com/max/725/0*FeIp1t4uEcW5LmSM.png\"/>\n",
    "Image from <a href=\"https://www.kdnuggets.com/2020/01/5-most-useful-techniques-handle-imbalanced-datasets.html\">Agarawal R.</a>\n",
    "\n",
    "An adopted method is the use of sampling techniques. In this method we either increase the number of positive cases (oversampling) or decrease the number of negative cases(undersampling). "
   ]
  },
  {
   "cell_type": "code",
   "execution_count": 1,
   "id": "61890fe7",
   "metadata": {},
   "outputs": [],
   "source": [
    "import pandas as pd\n",
    "import seaborn as sns \n",
    "import matplotlib.pyplot as plt\n",
    "from sklearn.datasets import make_classification\n",
    "from collections import Counter\n",
    "# we create fake data wherein we only 10% positive cases and the rest are negative\n",
    "X, y = make_classification(\n",
    "    n_classes=2, class_sep=1.5, weights=[0.9, 0.1],\n",
    "    n_informative=3, n_redundant=1, flip_y=0,\n",
    "    n_features=20, n_clusters_per_class=1,\n",
    "    n_samples=100, random_state=10\n",
    ")\n",
    "X = pd.DataFrame(X)\n",
    "X['target'] = y"
   ]
  },
  {
   "cell_type": "code",
   "execution_count": 2,
   "id": "20da7e51",
   "metadata": {},
   "outputs": [
    {
     "data": {
      "text/html": [
       "<div>\n",
       "<style scoped>\n",
       "    .dataframe tbody tr th:only-of-type {\n",
       "        vertical-align: middle;\n",
       "    }\n",
       "\n",
       "    .dataframe tbody tr th {\n",
       "        vertical-align: top;\n",
       "    }\n",
       "\n",
       "    .dataframe thead th {\n",
       "        text-align: right;\n",
       "    }\n",
       "</style>\n",
       "<table border=\"1\" class=\"dataframe\">\n",
       "  <thead>\n",
       "    <tr style=\"text-align: right;\">\n",
       "      <th></th>\n",
       "      <th>0</th>\n",
       "      <th>1</th>\n",
       "      <th>2</th>\n",
       "      <th>3</th>\n",
       "      <th>4</th>\n",
       "      <th>5</th>\n",
       "      <th>6</th>\n",
       "      <th>7</th>\n",
       "      <th>8</th>\n",
       "      <th>9</th>\n",
       "      <th>...</th>\n",
       "      <th>11</th>\n",
       "      <th>12</th>\n",
       "      <th>13</th>\n",
       "      <th>14</th>\n",
       "      <th>15</th>\n",
       "      <th>16</th>\n",
       "      <th>17</th>\n",
       "      <th>18</th>\n",
       "      <th>19</th>\n",
       "      <th>target</th>\n",
       "    </tr>\n",
       "  </thead>\n",
       "  <tbody>\n",
       "    <tr>\n",
       "      <th>0</th>\n",
       "      <td>0.327419</td>\n",
       "      <td>-0.123936</td>\n",
       "      <td>0.377707</td>\n",
       "      <td>-0.650123</td>\n",
       "      <td>0.267562</td>\n",
       "      <td>1.228781</td>\n",
       "      <td>2.208772</td>\n",
       "      <td>-0.185977</td>\n",
       "      <td>0.238732</td>\n",
       "      <td>-2.565438</td>\n",
       "      <td>...</td>\n",
       "      <td>0.644056</td>\n",
       "      <td>0.104375</td>\n",
       "      <td>-1.703024</td>\n",
       "      <td>-0.510083</td>\n",
       "      <td>-0.108812</td>\n",
       "      <td>-0.230132</td>\n",
       "      <td>1.553707</td>\n",
       "      <td>1.497538</td>\n",
       "      <td>-1.476485</td>\n",
       "      <td>0</td>\n",
       "    </tr>\n",
       "    <tr>\n",
       "      <th>1</th>\n",
       "      <td>-0.843981</td>\n",
       "      <td>-0.018691</td>\n",
       "      <td>-0.841018</td>\n",
       "      <td>1.374583</td>\n",
       "      <td>0.157199</td>\n",
       "      <td>-0.599719</td>\n",
       "      <td>2.217041</td>\n",
       "      <td>-2.032194</td>\n",
       "      <td>-2.310214</td>\n",
       "      <td>-0.490477</td>\n",
       "      <td>...</td>\n",
       "      <td>1.360939</td>\n",
       "      <td>-1.844740</td>\n",
       "      <td>-0.341096</td>\n",
       "      <td>0.137243</td>\n",
       "      <td>1.704764</td>\n",
       "      <td>0.464255</td>\n",
       "      <td>1.225786</td>\n",
       "      <td>-0.842880</td>\n",
       "      <td>1.303258</td>\n",
       "      <td>0</td>\n",
       "    </tr>\n",
       "    <tr>\n",
       "      <th>2</th>\n",
       "      <td>-0.204642</td>\n",
       "      <td>0.472155</td>\n",
       "      <td>-0.140616</td>\n",
       "      <td>-2.902493</td>\n",
       "      <td>-1.513665</td>\n",
       "      <td>1.149545</td>\n",
       "      <td>2.283673</td>\n",
       "      <td>-0.809117</td>\n",
       "      <td>-1.723535</td>\n",
       "      <td>-0.958556</td>\n",
       "      <td>...</td>\n",
       "      <td>-0.279701</td>\n",
       "      <td>-1.431391</td>\n",
       "      <td>0.260146</td>\n",
       "      <td>-0.501306</td>\n",
       "      <td>-2.320545</td>\n",
       "      <td>0.422214</td>\n",
       "      <td>1.386474</td>\n",
       "      <td>-0.073335</td>\n",
       "      <td>0.586859</td>\n",
       "      <td>0</td>\n",
       "    </tr>\n",
       "    <tr>\n",
       "      <th>3</th>\n",
       "      <td>0.208274</td>\n",
       "      <td>-0.156982</td>\n",
       "      <td>0.063369</td>\n",
       "      <td>-0.545759</td>\n",
       "      <td>-0.395416</td>\n",
       "      <td>-2.679969</td>\n",
       "      <td>1.507772</td>\n",
       "      <td>0.391485</td>\n",
       "      <td>-0.487337</td>\n",
       "      <td>-0.946147</td>\n",
       "      <td>...</td>\n",
       "      <td>-1.011854</td>\n",
       "      <td>-1.124795</td>\n",
       "      <td>0.347291</td>\n",
       "      <td>-1.078836</td>\n",
       "      <td>0.046923</td>\n",
       "      <td>-0.978324</td>\n",
       "      <td>1.100517</td>\n",
       "      <td>-0.697134</td>\n",
       "      <td>0.339577</td>\n",
       "      <td>0</td>\n",
       "    </tr>\n",
       "    <tr>\n",
       "      <th>4</th>\n",
       "      <td>0.785568</td>\n",
       "      <td>0.208472</td>\n",
       "      <td>0.760082</td>\n",
       "      <td>-0.046130</td>\n",
       "      <td>0.310844</td>\n",
       "      <td>-0.403927</td>\n",
       "      <td>1.462897</td>\n",
       "      <td>0.962173</td>\n",
       "      <td>-0.520996</td>\n",
       "      <td>1.647360</td>\n",
       "      <td>...</td>\n",
       "      <td>0.316792</td>\n",
       "      <td>-0.261528</td>\n",
       "      <td>-1.260698</td>\n",
       "      <td>0.822700</td>\n",
       "      <td>0.141031</td>\n",
       "      <td>-0.294805</td>\n",
       "      <td>2.216364</td>\n",
       "      <td>-1.129875</td>\n",
       "      <td>-1.059984</td>\n",
       "      <td>1</td>\n",
       "    </tr>\n",
       "    <tr>\n",
       "      <th>...</th>\n",
       "      <td>...</td>\n",
       "      <td>...</td>\n",
       "      <td>...</td>\n",
       "      <td>...</td>\n",
       "      <td>...</td>\n",
       "      <td>...</td>\n",
       "      <td>...</td>\n",
       "      <td>...</td>\n",
       "      <td>...</td>\n",
       "      <td>...</td>\n",
       "      <td>...</td>\n",
       "      <td>...</td>\n",
       "      <td>...</td>\n",
       "      <td>...</td>\n",
       "      <td>...</td>\n",
       "      <td>...</td>\n",
       "      <td>...</td>\n",
       "      <td>...</td>\n",
       "      <td>...</td>\n",
       "      <td>...</td>\n",
       "      <td>...</td>\n",
       "    </tr>\n",
       "    <tr>\n",
       "      <th>95</th>\n",
       "      <td>-0.218414</td>\n",
       "      <td>0.393699</td>\n",
       "      <td>0.653777</td>\n",
       "      <td>-1.312950</td>\n",
       "      <td>-1.025031</td>\n",
       "      <td>0.134849</td>\n",
       "      <td>3.840511</td>\n",
       "      <td>-0.804299</td>\n",
       "      <td>-3.165732</td>\n",
       "      <td>-2.021668</td>\n",
       "      <td>...</td>\n",
       "      <td>-0.581732</td>\n",
       "      <td>-0.151500</td>\n",
       "      <td>-0.150625</td>\n",
       "      <td>0.092327</td>\n",
       "      <td>-0.251294</td>\n",
       "      <td>-0.192647</td>\n",
       "      <td>2.009518</td>\n",
       "      <td>-1.362301</td>\n",
       "      <td>2.664974</td>\n",
       "      <td>0</td>\n",
       "    </tr>\n",
       "    <tr>\n",
       "      <th>96</th>\n",
       "      <td>0.212049</td>\n",
       "      <td>-1.717439</td>\n",
       "      <td>0.306482</td>\n",
       "      <td>1.734235</td>\n",
       "      <td>-2.058806</td>\n",
       "      <td>-0.417814</td>\n",
       "      <td>0.376990</td>\n",
       "      <td>-0.834218</td>\n",
       "      <td>-1.355098</td>\n",
       "      <td>1.287204</td>\n",
       "      <td>...</td>\n",
       "      <td>-0.295757</td>\n",
       "      <td>-2.241017</td>\n",
       "      <td>-0.534599</td>\n",
       "      <td>0.533367</td>\n",
       "      <td>0.891498</td>\n",
       "      <td>0.910063</td>\n",
       "      <td>0.349467</td>\n",
       "      <td>1.161048</td>\n",
       "      <td>0.556070</td>\n",
       "      <td>0</td>\n",
       "    </tr>\n",
       "    <tr>\n",
       "      <th>97</th>\n",
       "      <td>-0.011497</td>\n",
       "      <td>-0.670154</td>\n",
       "      <td>-0.509845</td>\n",
       "      <td>0.703307</td>\n",
       "      <td>0.857470</td>\n",
       "      <td>0.257115</td>\n",
       "      <td>1.448881</td>\n",
       "      <td>-0.093277</td>\n",
       "      <td>-0.259108</td>\n",
       "      <td>-1.068263</td>\n",
       "      <td>...</td>\n",
       "      <td>-0.359560</td>\n",
       "      <td>-0.688662</td>\n",
       "      <td>2.041108</td>\n",
       "      <td>-2.756415</td>\n",
       "      <td>1.373629</td>\n",
       "      <td>-0.388022</td>\n",
       "      <td>1.090378</td>\n",
       "      <td>-1.388104</td>\n",
       "      <td>-0.304678</td>\n",
       "      <td>0</td>\n",
       "    </tr>\n",
       "    <tr>\n",
       "      <th>98</th>\n",
       "      <td>1.107590</td>\n",
       "      <td>1.034863</td>\n",
       "      <td>0.461980</td>\n",
       "      <td>-0.423340</td>\n",
       "      <td>-0.180139</td>\n",
       "      <td>0.624847</td>\n",
       "      <td>1.994488</td>\n",
       "      <td>2.654549</td>\n",
       "      <td>-0.980035</td>\n",
       "      <td>-1.141259</td>\n",
       "      <td>...</td>\n",
       "      <td>0.366621</td>\n",
       "      <td>-1.099235</td>\n",
       "      <td>0.514940</td>\n",
       "      <td>-0.740902</td>\n",
       "      <td>0.321945</td>\n",
       "      <td>0.299279</td>\n",
       "      <td>1.336946</td>\n",
       "      <td>-0.117431</td>\n",
       "      <td>-0.324022</td>\n",
       "      <td>0</td>\n",
       "    </tr>\n",
       "    <tr>\n",
       "      <th>99</th>\n",
       "      <td>-0.503118</td>\n",
       "      <td>-0.960255</td>\n",
       "      <td>-0.355676</td>\n",
       "      <td>-0.163503</td>\n",
       "      <td>-0.950180</td>\n",
       "      <td>1.116589</td>\n",
       "      <td>3.611889</td>\n",
       "      <td>0.532940</td>\n",
       "      <td>-2.252691</td>\n",
       "      <td>-2.428728</td>\n",
       "      <td>...</td>\n",
       "      <td>0.737814</td>\n",
       "      <td>2.147251</td>\n",
       "      <td>-1.281092</td>\n",
       "      <td>-1.546182</td>\n",
       "      <td>0.535100</td>\n",
       "      <td>0.560354</td>\n",
       "      <td>2.014433</td>\n",
       "      <td>-2.049403</td>\n",
       "      <td>-1.342698</td>\n",
       "      <td>0</td>\n",
       "    </tr>\n",
       "  </tbody>\n",
       "</table>\n",
       "<p>100 rows × 21 columns</p>\n",
       "</div>"
      ],
      "text/plain": [
       "           0         1         2         3         4         5         6  \\\n",
       "0   0.327419 -0.123936  0.377707 -0.650123  0.267562  1.228781  2.208772   \n",
       "1  -0.843981 -0.018691 -0.841018  1.374583  0.157199 -0.599719  2.217041   \n",
       "2  -0.204642  0.472155 -0.140616 -2.902493 -1.513665  1.149545  2.283673   \n",
       "3   0.208274 -0.156982  0.063369 -0.545759 -0.395416 -2.679969  1.507772   \n",
       "4   0.785568  0.208472  0.760082 -0.046130  0.310844 -0.403927  1.462897   \n",
       "..       ...       ...       ...       ...       ...       ...       ...   \n",
       "95 -0.218414  0.393699  0.653777 -1.312950 -1.025031  0.134849  3.840511   \n",
       "96  0.212049 -1.717439  0.306482  1.734235 -2.058806 -0.417814  0.376990   \n",
       "97 -0.011497 -0.670154 -0.509845  0.703307  0.857470  0.257115  1.448881   \n",
       "98  1.107590  1.034863  0.461980 -0.423340 -0.180139  0.624847  1.994488   \n",
       "99 -0.503118 -0.960255 -0.355676 -0.163503 -0.950180  1.116589  3.611889   \n",
       "\n",
       "           7         8         9  ...        11        12        13        14  \\\n",
       "0  -0.185977  0.238732 -2.565438  ...  0.644056  0.104375 -1.703024 -0.510083   \n",
       "1  -2.032194 -2.310214 -0.490477  ...  1.360939 -1.844740 -0.341096  0.137243   \n",
       "2  -0.809117 -1.723535 -0.958556  ... -0.279701 -1.431391  0.260146 -0.501306   \n",
       "3   0.391485 -0.487337 -0.946147  ... -1.011854 -1.124795  0.347291 -1.078836   \n",
       "4   0.962173 -0.520996  1.647360  ...  0.316792 -0.261528 -1.260698  0.822700   \n",
       "..       ...       ...       ...  ...       ...       ...       ...       ...   \n",
       "95 -0.804299 -3.165732 -2.021668  ... -0.581732 -0.151500 -0.150625  0.092327   \n",
       "96 -0.834218 -1.355098  1.287204  ... -0.295757 -2.241017 -0.534599  0.533367   \n",
       "97 -0.093277 -0.259108 -1.068263  ... -0.359560 -0.688662  2.041108 -2.756415   \n",
       "98  2.654549 -0.980035 -1.141259  ...  0.366621 -1.099235  0.514940 -0.740902   \n",
       "99  0.532940 -2.252691 -2.428728  ...  0.737814  2.147251 -1.281092 -1.546182   \n",
       "\n",
       "          15        16        17        18        19  target  \n",
       "0  -0.108812 -0.230132  1.553707  1.497538 -1.476485       0  \n",
       "1   1.704764  0.464255  1.225786 -0.842880  1.303258       0  \n",
       "2  -2.320545  0.422214  1.386474 -0.073335  0.586859       0  \n",
       "3   0.046923 -0.978324  1.100517 -0.697134  0.339577       0  \n",
       "4   0.141031 -0.294805  2.216364 -1.129875 -1.059984       1  \n",
       "..       ...       ...       ...       ...       ...     ...  \n",
       "95 -0.251294 -0.192647  2.009518 -1.362301  2.664974       0  \n",
       "96  0.891498  0.910063  0.349467  1.161048  0.556070       0  \n",
       "97  1.373629 -0.388022  1.090378 -1.388104 -0.304678       0  \n",
       "98  0.321945  0.299279  1.336946 -0.117431 -0.324022       0  \n",
       "99  0.535100  0.560354  2.014433 -2.049403 -1.342698       0  \n",
       "\n",
       "[100 rows x 21 columns]"
      ]
     },
     "execution_count": 2,
     "metadata": {},
     "output_type": "execute_result"
    }
   ],
   "source": [
    "X"
   ]
  },
  {
   "cell_type": "code",
   "execution_count": 3,
   "id": "88eb7e31",
   "metadata": {},
   "outputs": [
    {
     "name": "stdout",
     "output_type": "stream",
     "text": [
      "(100, 21)\n"
     ]
    },
    {
     "data": {
      "text/plain": [
       "0    90\n",
       "1    10\n",
       "Name: target, dtype: int64"
      ]
     },
     "execution_count": 3,
     "metadata": {},
     "output_type": "execute_result"
    }
   ],
   "source": [
    "print(X.shape)\n",
    "X.target.value_counts()"
   ]
  },
  {
   "cell_type": "markdown",
   "id": "e4a735ef",
   "metadata": {},
   "source": [
    "### Random Undersampling"
   ]
  },
  {
   "cell_type": "markdown",
   "id": "6c70810f",
   "metadata": {},
   "source": [
    "For undersampling one common method is called random undersampling. This technique reduces the number of majority class by randomly removing data points from the original dataset. To do this we need to install the imblearn library, run this command on your conda environment `conda install -c conda-forge imbalanced-learn`"
   ]
  },
  {
   "cell_type": "code",
   "execution_count": 4,
   "id": "af9153ca",
   "metadata": {},
   "outputs": [
    {
     "name": "stdout",
     "output_type": "stream",
     "text": [
      "# of data points before resampling 100\n",
      "# of data points after resampling 30\n",
      "target distribution before resampling Counter({0: 90, 1: 10})\n",
      "target distribution after resampling Counter({0: 20, 1: 10})\n"
     ]
    }
   ],
   "source": [
    "from imblearn.under_sampling import RandomUnderSampler\n",
    "\n",
    "undersampler = RandomUnderSampler(sampling_strategy=.5)\n",
    "X_under, y_under = undersampler.fit_resample(X, y)\n",
    "\n",
    "print(f\"# of data points before resampling {len(y)}\")\n",
    "print(f\"# of data points after resampling {len(y_under)}\")\n",
    "\n",
    "print(f\"target distribution before resampling {Counter(y)}\")\n",
    "print(f\"target distribution after resampling {Counter(y_under)}\")"
   ]
  },
  {
   "cell_type": "markdown",
   "id": "32b2c57a",
   "metadata": {},
   "source": [
    "From the results after using undersampling we can see that 40 rows were removed so that we can achieve the ratio of 80% negative and 20% positive"
   ]
  },
  {
   "cell_type": "markdown",
   "id": "becb36f1",
   "metadata": {},
   "source": [
    "### Synethic Minority Oversampling Technique (SMOTE)"
   ]
  },
  {
   "cell_type": "markdown",
   "id": "eeb9d30b",
   "metadata": {},
   "source": [
    "SMOTE is an oversampling technique which increases our minority class by using the KNN algorithm. For example if K = 5 SMOTE will find the 5 nearest neighbors for a given data point and create data points in between the space of the 5 nearest neighbors. \n",
    "\n",
    "Original Dataset\n",
    "<img src=\"https://machinelearningmastery.com/wp-content/uploads/2019/10/Scatter-Plot-of-Imbalanced-Binary-Classification-Problem.png\"> \n",
    "\n",
    "Dataset after using SMOTE \n",
    "<img src=\"https://machinelearningmastery.com/wp-content/uploads/2019/10/Scatter-Plot-of-Imbalanced-Binary-Classification-Problem-Transformed-by-SMOTE.png\"> \n",
    "\n",
    "Images from <a href=\"https://machinelearningmastery.com/smote-oversampling-for-imbalanced-classification/\">Brownlee J.</a>"
   ]
  },
  {
   "cell_type": "code",
   "execution_count": 6,
   "id": "0e091556",
   "metadata": {},
   "outputs": [
    {
     "name": "stdout",
     "output_type": "stream",
     "text": [
      "# of data points before resampling 100\n",
      "# of data points after resampling 135\n",
      "target distribution before resampling Counter({0: 90, 1: 10})\n",
      "target distribution after resampling Counter({0: 90, 1: 45})\n"
     ]
    }
   ],
   "source": [
    "from imblearn.over_sampling import SMOTE\n",
    "\n",
    "oversampler = SMOTE(sampling_strategy=0.5, k_neighbors=6)\n",
    "X_over, y_over = oversampler.fit_resample(X_train, y)\n",
    "\n",
    "print(f\"# of data points before resampling {len(y)}\")\n",
    "print(f\"# of data points after resampling {len(y_over)}\")\n",
    "\n",
    "print(f\"target distribution before resampling {Counter(y)}\")\n",
    "print(f\"target distribution after resampling {Counter(y_over)}\")"
   ]
  },
  {
   "cell_type": "code",
   "execution_count": 7,
   "id": "a938eb53",
   "metadata": {},
   "outputs": [
    {
     "data": {
      "text/plain": [
       "<AxesSubplot:xlabel='0', ylabel='1'>"
      ]
     },
     "execution_count": 7,
     "metadata": {},
     "output_type": "execute_result"
    },
    {
     "data": {
      "image/png": "[encoded data removed]",
      "text/plain": [
       "<Figure size 1080x576 with 2 Axes>"
      ]
     },
     "metadata": {
      "needs_background": "light"
     },
     "output_type": "display_data"
    }
   ],
   "source": [
    "fig, axes = plt.subplots(figsize=(15, 8), ncols=2)\n",
    "sns.scatterplot(ax=axes[0], x=X[0], y=X[1], hue=y)\n",
    "sns.scatterplot(ax=axes[1], x=X_over[0], y=X_over[1], hue=y_over)"
   ]
  },
  {
   "cell_type": "markdown",
   "id": "384a85d3",
   "metadata": {},
   "source": [
    "## 2. Model Class Weights"
   ]
  },
  {
   "cell_type": "markdown",
   "id": "f5398ef4",
   "metadata": {},
   "source": [
    "In this approach we modify the cost/loss function being used by the machine learning algorithm. By indicating weights in the classes being forecasted, the model is penalized more depending on the weight provided. For example the Logistic Regression implementation in Scikitlearn has the class weights parameter. If we indicate values here the log loss function will now have weights being multiplied as part of the calculation."
   ]
  },
  {
   "cell_type": "code",
   "execution_count": 9,
   "id": "2401d7ce",
   "metadata": {},
   "outputs": [
    {
     "name": "stdout",
     "output_type": "stream",
     "text": [
      "Performance without weighting Accuracy=0.9666666666666667 F1-Score=0.8\n",
      "Performance with weighting Accuracy=0.9666666666666667 F1-Score=0.8571428571428571\n"
     ]
    }
   ],
   "source": [
    "from sklearn.linear_model import LogisticRegression\n",
    "from sklearn.model_selection import train_test_split\n",
    "from sklearn.metrics import precision_score, recall_score, f1_score\n",
    "import numpy as np\n",
    "\n",
    "X_train, X_test, y_train, y_test = train_test_split(X, y, test_size=.3, random_state=42, stratify=y)\n",
    "\n",
    "clf = LogisticRegression()\n",
    "clf.fit(X_train, y_train)\n",
    "y_pred = clf.predict(X_test)\n",
    "\n",
    "print(f\"Performance without weighting Accuracy={clf.score(X_test, y_test)} F1-Score={f1_score(y_test, y_pred)}\")\n",
    "\n",
    "clf = LogisticRegression(class_weight={0: .1, 1: .9})\n",
    "clf.fit(X_train, y_train)\n",
    "y_pred = clf.predict(X_test)\n",
    "\n",
    "print(f\"Performance with weighting Accuracy={clf.score(X_test, y_test)} F1-Score={f1_score(y_test, y_pred)}\")"
   ]
  },
  {
   "cell_type": "markdown",
   "id": "54cf9a3f",
   "metadata": {},
   "source": [
    "We can play around with the weights of the target classes in order to find the optimal weight that gives us the highest metric."
   ]
  },
  {
   "cell_type": "code",
   "execution_count": 10,
   "id": "72c356e3",
   "metadata": {},
   "outputs": [
    {
     "name": "stdout",
     "output_type": "stream",
     "text": [
      "[0.   0.01 0.02 0.03 0.04 0.05 0.06 0.07 0.08 0.09 0.1  0.11 0.12 0.13\n",
      " 0.14 0.15 0.16 0.17 0.18 0.19 0.2  0.21 0.22 0.23 0.24 0.25 0.26 0.27\n",
      " 0.28 0.29 0.3  0.31 0.32 0.33 0.34 0.35 0.36 0.37 0.38 0.39 0.4  0.41\n",
      " 0.42 0.43 0.44 0.45 0.46 0.47 0.48 0.49 0.5  0.51 0.52 0.53 0.54 0.55\n",
      " 0.56 0.57 0.58 0.59 0.6  0.61 0.62 0.63 0.64 0.65 0.66 0.67 0.68 0.69\n",
      " 0.7  0.71 0.72 0.73 0.74 0.75 0.76 0.77 0.78 0.79 0.8  0.81 0.82 0.83\n",
      " 0.84 0.85 0.86 0.87 0.88 0.89 0.9  0.91 0.92 0.93 0.94 0.95 0.96 0.97\n",
      " 0.98 0.99]\n"
     ]
    },
    {
     "data": {
      "text/html": [
       "<div>\n",
       "<style scoped>\n",
       "    .dataframe tbody tr th:only-of-type {\n",
       "        vertical-align: middle;\n",
       "    }\n",
       "\n",
       "    .dataframe tbody tr th {\n",
       "        vertical-align: top;\n",
       "    }\n",
       "\n",
       "    .dataframe thead th {\n",
       "        text-align: right;\n",
       "    }\n",
       "</style>\n",
       "<table border=\"1\" class=\"dataframe\">\n",
       "  <thead>\n",
       "    <tr style=\"text-align: right;\">\n",
       "      <th></th>\n",
       "      <th>weight class 0</th>\n",
       "      <th>weight class 1</th>\n",
       "      <th>accuracy</th>\n",
       "      <th>f1</th>\n",
       "    </tr>\n",
       "  </thead>\n",
       "  <tbody>\n",
       "    <tr>\n",
       "      <th>0</th>\n",
       "      <td>0.00</td>\n",
       "      <td>1.00</td>\n",
       "      <td>0.100000</td>\n",
       "      <td>0.181818</td>\n",
       "    </tr>\n",
       "    <tr>\n",
       "      <th>1</th>\n",
       "      <td>0.01</td>\n",
       "      <td>0.99</td>\n",
       "      <td>0.600000</td>\n",
       "      <td>0.333333</td>\n",
       "    </tr>\n",
       "    <tr>\n",
       "      <th>2</th>\n",
       "      <td>0.02</td>\n",
       "      <td>0.98</td>\n",
       "      <td>0.800000</td>\n",
       "      <td>0.500000</td>\n",
       "    </tr>\n",
       "    <tr>\n",
       "      <th>3</th>\n",
       "      <td>0.03</td>\n",
       "      <td>0.97</td>\n",
       "      <td>0.833333</td>\n",
       "      <td>0.545455</td>\n",
       "    </tr>\n",
       "    <tr>\n",
       "      <th>4</th>\n",
       "      <td>0.04</td>\n",
       "      <td>0.96</td>\n",
       "      <td>0.900000</td>\n",
       "      <td>0.666667</td>\n",
       "    </tr>\n",
       "    <tr>\n",
       "      <th>...</th>\n",
       "      <td>...</td>\n",
       "      <td>...</td>\n",
       "      <td>...</td>\n",
       "      <td>...</td>\n",
       "    </tr>\n",
       "    <tr>\n",
       "      <th>95</th>\n",
       "      <td>0.95</td>\n",
       "      <td>0.05</td>\n",
       "      <td>0.900000</td>\n",
       "      <td>0.000000</td>\n",
       "    </tr>\n",
       "    <tr>\n",
       "      <th>96</th>\n",
       "      <td>0.96</td>\n",
       "      <td>0.04</td>\n",
       "      <td>0.900000</td>\n",
       "      <td>0.000000</td>\n",
       "    </tr>\n",
       "    <tr>\n",
       "      <th>97</th>\n",
       "      <td>0.97</td>\n",
       "      <td>0.03</td>\n",
       "      <td>0.900000</td>\n",
       "      <td>0.000000</td>\n",
       "    </tr>\n",
       "    <tr>\n",
       "      <th>98</th>\n",
       "      <td>0.98</td>\n",
       "      <td>0.02</td>\n",
       "      <td>0.900000</td>\n",
       "      <td>0.000000</td>\n",
       "    </tr>\n",
       "    <tr>\n",
       "      <th>99</th>\n",
       "      <td>0.99</td>\n",
       "      <td>0.01</td>\n",
       "      <td>0.900000</td>\n",
       "      <td>0.000000</td>\n",
       "    </tr>\n",
       "  </tbody>\n",
       "</table>\n",
       "<p>100 rows × 4 columns</p>\n",
       "</div>"
      ],
      "text/plain": [
       "    weight class 0  weight class 1  accuracy        f1\n",
       "0             0.00            1.00  0.100000  0.181818\n",
       "1             0.01            0.99  0.600000  0.333333\n",
       "2             0.02            0.98  0.800000  0.500000\n",
       "3             0.03            0.97  0.833333  0.545455\n",
       "4             0.04            0.96  0.900000  0.666667\n",
       "..             ...             ...       ...       ...\n",
       "95            0.95            0.05  0.900000  0.000000\n",
       "96            0.96            0.04  0.900000  0.000000\n",
       "97            0.97            0.03  0.900000  0.000000\n",
       "98            0.98            0.02  0.900000  0.000000\n",
       "99            0.99            0.01  0.900000  0.000000\n",
       "\n",
       "[100 rows x 4 columns]"
      ]
     },
     "execution_count": 10,
     "metadata": {},
     "output_type": "execute_result"
    }
   ],
   "source": [
    "weights = np.linspace(0, 0.99, 100)\n",
    "print(weights)\n",
    "res = []\n",
    "for w in weights: \n",
    "    clf = LogisticRegression(class_weight={0: w, 1: 1-w})\n",
    "    clf.fit(X_train, y_train)\n",
    "    y_pred = clf.predict(X_test)\n",
    "    accuracy = clf.score(X_test, y_test)\n",
    "    f1 = f1_score(y_test, y_pred)\n",
    "    \n",
    "    res.append([w, 1-w, accuracy, f1])\n",
    "    \n",
    "res_df = pd.DataFrame(data=res, columns=['weight class 0', 'weight class 1', 'accuracy', 'f1'])\n",
    "res_df"
   ]
  },
  {
   "cell_type": "code",
   "execution_count": 11,
   "id": "947187b1",
   "metadata": {},
   "outputs": [
    {
     "data": {
      "text/plain": [
       "weight class 0    0.080000\n",
       "weight class 1    0.920000\n",
       "accuracy          0.966667\n",
       "f1                0.857143\n",
       "Name: 8, dtype: float64"
      ]
     },
     "execution_count": 11,
     "metadata": {},
     "output_type": "execute_result"
    }
   ],
   "source": [
    "res_df.iloc[res_df.f1.argmax()]"
   ]
  },
  {
   "cell_type": "markdown",
   "id": "480f21f4",
   "metadata": {},
   "source": [
    "From the example above we compared performance of building a model with weights and another without weights. The example shows that without weights we are getting better performance. This shows you the experimental nature of using different techniques. There is no gurantee that it will improve performance. Logistic regression is only an example here there are other algorithms that also implement class weights (ex. decision trees)"
   ]
  },
  {
   "cell_type": "markdown",
   "id": "730f002c",
   "metadata": {},
   "source": [
    "# References"
   ]
  },
  {
   "cell_type": "markdown",
   "id": "bcf729a4",
   "metadata": {},
   "source": [
    "https://machinelearningmastery.com/smote-oversampling-for-imbalanced-classification/"
   ]
  },
  {
   "cell_type": "markdown",
   "id": "6b64acf5",
   "metadata": {},
   "source": [
    "https://www.kdnuggets.com/2020/01/5-most-useful-techniques-handle-imbalanced-datasets.html"
   ]
  }
 ],
 "metadata": {
  "kernelspec": {
   "display_name": "Python 3",
   "language": "python",
   "name": "python3"
  },
  "language_info": {
   "codemirror_mode": {
    "name": "ipython",
    "version": 3
   },
   "file_extension": ".py",
   "mimetype": "text/x-python",
   "name": "python",
   "nbconvert_exporter": "python",
   "pygments_lexer": "ipython3",
   "version": "3.7.7"
  }
 },
 "nbformat": 4,
 "nbformat_minor": 5
}
